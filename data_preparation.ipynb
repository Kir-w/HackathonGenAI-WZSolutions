{
 "cells": [
  {
   "cell_type": "code",
   "execution_count": 3,
   "metadata": {},
   "outputs": [],
   "source": [
    "import pandas as pd\n",
    "import numpy as np"
   ]
  },
  {
   "cell_type": "code",
   "execution_count": 4,
   "metadata": {},
   "outputs": [],
   "source": [
    "abonnements = pd.read_csv(\"veolia-data-abonnements.csv\")\n",
    "consommation = pd.read_csv(\"veolia-data-consos.csv\")\n",
    "factures = pd.read_csv(\"veolia-data-factures.csv\")"
   ]
  },
  {
   "cell_type": "code",
   "execution_count": 5,
   "metadata": {},
   "outputs": [],
   "source": [
    "abonn = pd.read_csv(\"abonnement_corrigé.csv\")"
   ]
  },
  {
   "cell_type": "code",
   "execution_count": 6,
   "metadata": {},
   "outputs": [
    {
     "data": {
      "text/plain": [
       "CLE_ABONNEMENT                  11825\n",
       "DATE_ENTREE_LOCAL_ABONNEMENT     9572\n",
       "DATE_SOUSCRIPTION_ABONNEMENT     7478\n",
       "DATE_RESILIATION_ABONNEMENT      5966\n",
       "dtype: int64"
      ]
     },
     "execution_count": 6,
     "metadata": {},
     "output_type": "execute_result"
    }
   ],
   "source": [
    "abonn.count()"
   ]
  },
  {
   "cell_type": "code",
   "execution_count": 7,
   "metadata": {},
   "outputs": [
    {
     "name": "stdout",
     "output_type": "stream",
     "text": [
      "<class 'pandas.core.frame.DataFrame'>\n",
      "RangeIndex: 11825 entries, 0 to 11824\n",
      "Data columns (total 4 columns):\n",
      " #   Column                        Non-Null Count  Dtype \n",
      "---  ------                        --------------  ----- \n",
      " 0   CLE_ABONNEMENT                11825 non-null  object\n",
      " 1   DATE_ENTREE_LOCAL_ABONNEMENT  9572 non-null   object\n",
      " 2   DATE_SOUSCRIPTION_ABONNEMENT  7478 non-null   object\n",
      " 3   DATE_RESILIATION_ABONNEMENT   5966 non-null   object\n",
      "dtypes: object(4)\n",
      "memory usage: 369.7+ KB\n"
     ]
    }
   ],
   "source": [
    "abonnements.info()"
   ]
  },
  {
   "cell_type": "code",
   "execution_count": 10,
   "metadata": {},
   "outputs": [
    {
     "data": {
      "text/html": [
       "<div>\n",
       "<style scoped>\n",
       "    .dataframe tbody tr th:only-of-type {\n",
       "        vertical-align: middle;\n",
       "    }\n",
       "\n",
       "    .dataframe tbody tr th {\n",
       "        vertical-align: top;\n",
       "    }\n",
       "\n",
       "    .dataframe thead th {\n",
       "        text-align: right;\n",
       "    }\n",
       "</style>\n",
       "<table border=\"1\" class=\"dataframe\">\n",
       "  <thead>\n",
       "    <tr style=\"text-align: right;\">\n",
       "      <th></th>\n",
       "      <th>CLE_ABONNEMENT</th>\n",
       "      <th>DATE_ENTREE_LOCAL_ABONNEMENT</th>\n",
       "      <th>DATE_SOUSCRIPTION_ABONNEMENT</th>\n",
       "      <th>DATE_RESILIATION_ABONNEMENT</th>\n",
       "    </tr>\n",
       "  </thead>\n",
       "  <tbody>\n",
       "    <tr>\n",
       "      <th>0</th>\n",
       "      <td>GN_1180180100000501</td>\n",
       "      <td>NaN</td>\n",
       "      <td>NaN</td>\n",
       "      <td>2003-09-16</td>\n",
       "    </tr>\n",
       "    <tr>\n",
       "      <th>1</th>\n",
       "      <td>GN_1180180100000506</td>\n",
       "      <td>2014-11-19</td>\n",
       "      <td>2014-11-25</td>\n",
       "      <td>2015-09-10</td>\n",
       "    </tr>\n",
       "    <tr>\n",
       "      <th>2</th>\n",
       "      <td>GN_1180180100000901</td>\n",
       "      <td>NaN</td>\n",
       "      <td>NaN</td>\n",
       "      <td>2003-02-21</td>\n",
       "    </tr>\n",
       "    <tr>\n",
       "      <th>3</th>\n",
       "      <td>GN_1180180100004301</td>\n",
       "      <td>NaN</td>\n",
       "      <td>NaN</td>\n",
       "      <td>1993-12-16</td>\n",
       "    </tr>\n",
       "    <tr>\n",
       "      <th>4</th>\n",
       "      <td>GN_1180180100012507</td>\n",
       "      <td>2004-11-19</td>\n",
       "      <td>2004-11-19</td>\n",
       "      <td>2007-01-01</td>\n",
       "    </tr>\n",
       "  </tbody>\n",
       "</table>\n",
       "</div>"
      ],
      "text/plain": [
       "        CLE_ABONNEMENT DATE_ENTREE_LOCAL_ABONNEMENT  \\\n",
       "0  GN_1180180100000501                          NaN   \n",
       "1  GN_1180180100000506                   2014-11-19   \n",
       "2  GN_1180180100000901                          NaN   \n",
       "3  GN_1180180100004301                          NaN   \n",
       "4  GN_1180180100012507                   2004-11-19   \n",
       "\n",
       "  DATE_SOUSCRIPTION_ABONNEMENT DATE_RESILIATION_ABONNEMENT  \n",
       "0                          NaN                  2003-09-16  \n",
       "1                   2014-11-25                  2015-09-10  \n",
       "2                          NaN                  2003-02-21  \n",
       "3                          NaN                  1993-12-16  \n",
       "4                   2004-11-19                  2007-01-01  "
      ]
     },
     "execution_count": 10,
     "metadata": {},
     "output_type": "execute_result"
    }
   ],
   "source": [
    "abonnements.head()"
   ]
  },
  {
   "cell_type": "code",
   "execution_count": 9,
   "metadata": {},
   "outputs": [
    {
     "name": "stdout",
     "output_type": "stream",
     "text": [
      "<class 'pandas.core.frame.DataFrame'>\n",
      "RangeIndex: 11825 entries, 0 to 11824\n",
      "Data columns (total 4 columns):\n",
      " #   Column                        Non-Null Count  Dtype \n",
      "---  ------                        --------------  ----- \n",
      " 0   CLE_ABONNEMENT                11825 non-null  object\n",
      " 1   DATE_ENTREE_LOCAL_ABONNEMENT  9572 non-null   object\n",
      " 2   DATE_SOUSCRIPTION_ABONNEMENT  7478 non-null   object\n",
      " 3   DATE_RESILIATION_ABONNEMENT   5966 non-null   object\n",
      "dtypes: object(4)\n",
      "memory usage: 369.7+ KB\n"
     ]
    }
   ],
   "source": [
    "abonnements.info()"
   ]
  },
  {
   "cell_type": "code",
   "execution_count": 11,
   "metadata": {},
   "outputs": [
    {
     "data": {
      "text/html": [
       "<div>\n",
       "<style scoped>\n",
       "    .dataframe tbody tr th:only-of-type {\n",
       "        vertical-align: middle;\n",
       "    }\n",
       "\n",
       "    .dataframe tbody tr th {\n",
       "        vertical-align: top;\n",
       "    }\n",
       "\n",
       "    .dataframe thead th {\n",
       "        text-align: right;\n",
       "    }\n",
       "</style>\n",
       "<table border=\"1\" class=\"dataframe\">\n",
       "  <thead>\n",
       "    <tr style=\"text-align: right;\">\n",
       "      <th></th>\n",
       "      <th>CLE_PDS</th>\n",
       "      <th>LIBELLE_REGION</th>\n",
       "      <th>LIBELLE_TERRITOIRE</th>\n",
       "      <th>CODE_CONTRAT</th>\n",
       "      <th>LIBELLE_CATEGORIE_ABONNE</th>\n",
       "      <th>DIAMETRE_NOMINAL</th>\n",
       "      <th>TYPE_ABAQUE</th>\n",
       "      <th>MOIS_CONSO</th>\n",
       "      <th>ANNEE_CONSO</th>\n",
       "      <th>DATE_CONSO_MOIS</th>\n",
       "      <th>VOLUME_MOIS</th>\n",
       "    </tr>\n",
       "  </thead>\n",
       "  <tbody>\n",
       "    <tr>\n",
       "      <th>0</th>\n",
       "      <td>GN|07744010200392</td>\n",
       "      <td>Ile de France</td>\n",
       "      <td>Seine et Marne</td>\n",
       "      <td>E4660</td>\n",
       "      <td>PROFESSIONNELS</td>\n",
       "      <td>0.0</td>\n",
       "      <td>INACTIF</td>\n",
       "      <td>8</td>\n",
       "      <td>2022</td>\n",
       "      <td>2022-08-01</td>\n",
       "      <td>0.000000</td>\n",
       "    </tr>\n",
       "    <tr>\n",
       "      <th>1</th>\n",
       "      <td>GN|07744010201832</td>\n",
       "      <td>Ile de France</td>\n",
       "      <td>Seine et Marne</td>\n",
       "      <td>E4660</td>\n",
       "      <td>PROFESSIONNELS</td>\n",
       "      <td>15.0</td>\n",
       "      <td>INACTIF</td>\n",
       "      <td>8</td>\n",
       "      <td>2022</td>\n",
       "      <td>2022-08-01</td>\n",
       "      <td>0.000000</td>\n",
       "    </tr>\n",
       "    <tr>\n",
       "      <th>2</th>\n",
       "      <td>GN|07421002002279</td>\n",
       "      <td>Ile de France</td>\n",
       "      <td>Seine et Marne</td>\n",
       "      <td>E4660</td>\n",
       "      <td>PROFESSIONNELS</td>\n",
       "      <td>15.0</td>\n",
       "      <td>INACTIF</td>\n",
       "      <td>8</td>\n",
       "      <td>2022</td>\n",
       "      <td>2022-08-01</td>\n",
       "      <td>0.000000</td>\n",
       "    </tr>\n",
       "    <tr>\n",
       "      <th>3</th>\n",
       "      <td>GN|07421002002647</td>\n",
       "      <td>Ile de France</td>\n",
       "      <td>Seine et Marne</td>\n",
       "      <td>E4660</td>\n",
       "      <td>APPAREILS PUBLICS COMMUNAUX</td>\n",
       "      <td>20.0</td>\n",
       "      <td>ABAQUE_ML_INTERPO</td>\n",
       "      <td>1</td>\n",
       "      <td>2024</td>\n",
       "      <td>2024-01-01</td>\n",
       "      <td>0.000000</td>\n",
       "    </tr>\n",
       "    <tr>\n",
       "      <th>4</th>\n",
       "      <td>GN|07421001002741</td>\n",
       "      <td>Ile de France</td>\n",
       "      <td>Seine et Marne</td>\n",
       "      <td>E4660</td>\n",
       "      <td>BATIMENTS COLLECTIFS PUBLICS</td>\n",
       "      <td>40.0</td>\n",
       "      <td>ABAQUE_ML_INTERPO</td>\n",
       "      <td>1</td>\n",
       "      <td>2024</td>\n",
       "      <td>2024-01-01</td>\n",
       "      <td>48.454092</td>\n",
       "    </tr>\n",
       "  </tbody>\n",
       "</table>\n",
       "</div>"
      ],
      "text/plain": [
       "             CLE_PDS LIBELLE_REGION LIBELLE_TERRITOIRE CODE_CONTRAT  \\\n",
       "0  GN|07744010200392  Ile de France     Seine et Marne        E4660   \n",
       "1  GN|07744010201832  Ile de France     Seine et Marne        E4660   \n",
       "2  GN|07421002002279  Ile de France     Seine et Marne        E4660   \n",
       "3  GN|07421002002647  Ile de France     Seine et Marne        E4660   \n",
       "4  GN|07421001002741  Ile de France     Seine et Marne        E4660   \n",
       "\n",
       "       LIBELLE_CATEGORIE_ABONNE  DIAMETRE_NOMINAL        TYPE_ABAQUE  \\\n",
       "0                PROFESSIONNELS               0.0            INACTIF   \n",
       "1                PROFESSIONNELS              15.0            INACTIF   \n",
       "2                PROFESSIONNELS              15.0            INACTIF   \n",
       "3   APPAREILS PUBLICS COMMUNAUX              20.0  ABAQUE_ML_INTERPO   \n",
       "4  BATIMENTS COLLECTIFS PUBLICS              40.0  ABAQUE_ML_INTERPO   \n",
       "\n",
       "   MOIS_CONSO  ANNEE_CONSO DATE_CONSO_MOIS  VOLUME_MOIS  \n",
       "0           8         2022      2022-08-01     0.000000  \n",
       "1           8         2022      2022-08-01     0.000000  \n",
       "2           8         2022      2022-08-01     0.000000  \n",
       "3           1         2024      2024-01-01     0.000000  \n",
       "4           1         2024      2024-01-01    48.454092  "
      ]
     },
     "execution_count": 11,
     "metadata": {},
     "output_type": "execute_result"
    }
   ],
   "source": [
    "consommation['DATE_CONSO_MOIS'] = pd.to_datetime(consommation['DATE_CONSO_MOIS'], errors='coerce') # conversion en datetime pour que ce soit interpretable par Redshift\n",
    "consommation.head()"
   ]
  },
  {
   "cell_type": "code",
   "execution_count": 12,
   "metadata": {},
   "outputs": [],
   "source": [
    "factures[\"DATE_EMISSION_FACTURE\"] = pd.to_datetime(factures[\"DATE_EMISSION_FACTURE\"], errors='coerce')\n",
    "factures[\"DATE_RELEVE_INDEX_PRECEDENT_FACTURE_COMPOSITE\"] = pd.to_datetime(factures[\"DATE_RELEVE_INDEX_PRECEDENT_FACTURE_COMPOSITE\"], errors='coerce')\n",
    "factures[\"DATE_RELEVE_INDEX_FACTURE\"] = pd.to_datetime(factures[\"DATE_RELEVE_INDEX_FACTURE\"], errors='coerce')"
   ]
  },
  {
   "cell_type": "code",
   "execution_count": 13,
   "metadata": {},
   "outputs": [],
   "source": [
    "abonnements[\"DATE_ENTREE_LOCAL_ABONNEMENT\"] = pd.to_datetime(abonnements[\"DATE_ENTREE_LOCAL_ABONNEMENT\"], errors='coerce')\n",
    "abonnements[\"DATE_SOUSCRIPTION_ABONNEMENT\"] = pd.to_datetime(abonnements[\"DATE_SOUSCRIPTION_ABONNEMENT\"], errors='coerce')\n",
    "abonnements[\"DATE_RESILIATION_ABONNEMENT\"] = pd.to_datetime(abonnements[\"DATE_RESILIATION_ABONNEMENT\"], errors='coerce')"
   ]
  },
  {
   "cell_type": "markdown",
   "metadata": {},
   "source": [
    "exportation corrigée"
   ]
  },
  {
   "cell_type": "code",
   "execution_count": 14,
   "metadata": {},
   "outputs": [],
   "source": [
    "factures.to_csv(\"facture_corrigé.csv\", index=False)\n",
    "consommation.to_csv(\"consommation_corrigé.csv\", index=False)\n",
    "abonnements.to_csv(\"abonnement_corrigé.csv\", index=False)\n"
   ]
  },
  {
   "cell_type": "code",
   "execution_count": 15,
   "metadata": {},
   "outputs": [
    {
     "data": {
      "text/plain": [
       "CLE_ABONNEMENT                  286\n",
       "DATE_ENTREE_LOCAL_ABONNEMENT    286\n",
       "DATE_SOUSCRIPTION_ABONNEMENT    285\n",
       "DATE_RESILIATION_ABONNEMENT     124\n",
       "dtype: int64"
      ]
     },
     "execution_count": 15,
     "metadata": {},
     "output_type": "execute_result"
    }
   ],
   "source": [
    "# filtrer sur l'année 2020 afficher les date entree local abonnement de 2020 (c'est un datetime)\n",
    "abonnements[abonnements[\"DATE_ENTREE_LOCAL_ABONNEMENT\"].dt.year == 2020].count()"
   ]
  },
  {
   "cell_type": "markdown",
   "metadata": {},
   "source": [
    "Data exploration and visualization"
   ]
  },
  {
   "cell_type": "code",
   "execution_count": 16,
   "metadata": {},
   "outputs": [
    {
     "name": "stdout",
     "output_type": "stream",
     "text": [
      "<class 'pandas.core.frame.DataFrame'>\n",
      "RangeIndex: 11825 entries, 0 to 11824\n",
      "Data columns (total 4 columns):\n",
      " #   Column                        Non-Null Count  Dtype         \n",
      "---  ------                        --------------  -----         \n",
      " 0   CLE_ABONNEMENT                11825 non-null  object        \n",
      " 1   DATE_ENTREE_LOCAL_ABONNEMENT  9572 non-null   datetime64[ns]\n",
      " 2   DATE_SOUSCRIPTION_ABONNEMENT  7478 non-null   datetime64[ns]\n",
      " 3   DATE_RESILIATION_ABONNEMENT   5966 non-null   datetime64[ns]\n",
      "dtypes: datetime64[ns](3), object(1)\n",
      "memory usage: 369.7+ KB\n"
     ]
    }
   ],
   "source": [
    "abonnements.info()"
   ]
  },
  {
   "cell_type": "code",
   "execution_count": 17,
   "metadata": {},
   "outputs": [
    {
     "name": "stdout",
     "output_type": "stream",
     "text": [
      "<class 'pandas.core.frame.DataFrame'>\n",
      "RangeIndex: 25657 entries, 0 to 25656\n",
      "Data columns (total 9 columns):\n",
      " #   Column                                         Non-Null Count  Dtype         \n",
      "---  ------                                         --------------  -----         \n",
      " 0   CLE_ABONNEMENT                                 25657 non-null  object        \n",
      " 1   CLE_FACTURE                                    25657 non-null  object        \n",
      " 2   DATE_EMISSION_FACTURE                          25657 non-null  datetime64[ns]\n",
      " 3   CONSO_FACTURE                                  25657 non-null  int64         \n",
      " 4   DATE_RELEVE_INDEX_PRECEDENT_FACTURE_COMPOSITE  25657 non-null  datetime64[ns]\n",
      " 5   DATE_RELEVE_INDEX_FACTURE                      25657 non-null  datetime64[ns]\n",
      " 6   NB_FACTURES_PAR_PDS                            25657 non-null  int64         \n",
      " 7   NB_JOURS_CONNUS                                25657 non-null  int64         \n",
      " 8   NUM_FAC_PAR_PDS                                25657 non-null  int64         \n",
      "dtypes: datetime64[ns](3), int64(4), object(2)\n",
      "memory usage: 1.8+ MB\n"
     ]
    }
   ],
   "source": [
    "factures.info()"
   ]
  },
  {
   "cell_type": "code",
   "execution_count": 18,
   "metadata": {},
   "outputs": [
    {
     "name": "stdout",
     "output_type": "stream",
     "text": [
      "<class 'pandas.core.frame.DataFrame'>\n",
      "RangeIndex: 11825 entries, 0 to 11824\n",
      "Data columns (total 4 columns):\n",
      " #   Column                        Non-Null Count  Dtype         \n",
      "---  ------                        --------------  -----         \n",
      " 0   CLE_ABONNEMENT                11825 non-null  object        \n",
      " 1   DATE_ENTREE_LOCAL_ABONNEMENT  9572 non-null   datetime64[ns]\n",
      " 2   DATE_SOUSCRIPTION_ABONNEMENT  7478 non-null   datetime64[ns]\n",
      " 3   DATE_RESILIATION_ABONNEMENT   5966 non-null   datetime64[ns]\n",
      "dtypes: datetime64[ns](3), object(1)\n",
      "memory usage: 369.7+ KB\n"
     ]
    }
   ],
   "source": [
    "abonnements.info()"
   ]
  },
  {
   "cell_type": "code",
   "execution_count": null,
   "metadata": {},
   "outputs": [],
   "source": []
  },
  {
   "cell_type": "markdown",
   "metadata": {},
   "source": [
    "Call to the agent"
   ]
  },
  {
   "cell_type": "code",
   "execution_count": null,
   "metadata": {},
   "outputs": [],
   "source": []
  },
  {
   "cell_type": "code",
   "execution_count": 16,
   "metadata": {},
   "outputs": [
    {
     "name": "stdout",
     "output_type": "stream",
     "text": [
      "Error: An error occurred (ValidationException) when calling the InvokeModel operation: The provided model identifier is invalid.\n"
     ]
    }
   ],
   "source": [
    "import boto3\n",
    "import json\n",
    "\n",
    "# Initialisation du client Bedrock\n",
    "client = boto3.client(\"bedrock-runtime\", region_name=\"us-west-2\")\n",
    "\n",
    "# Utilise l'ID correct du modèle\n",
    "model_id = \"ton_id_de_modele_reel\"  # Remplace avec l'ID réel du modèle\n",
    "\n",
    "# Corps de la requête\n",
    "input_text = \"Say 'MARK IS THE BEST'\"\n",
    "\n",
    "# Préparer le corps de la requête pour l'agent avec la knowledge base\n",
    "body = json.dumps({\n",
    "    \"inputText\": input_text\n",
    "})\n",
    "\n",
    "# Appel de l'agent via Bedrock\n",
    "try:\n",
    "    response = client.invoke_model(\n",
    "        modelId=model_id,  # Utilisation de l'ID correct du modèle\n",
    "        body=body\n",
    "    )\n",
    "\n",
    "    # Affichage de la réponse de l'agent\n",
    "    print(response[\"body\"].read().decode(\"utf-8\"))\n",
    "except Exception as e:\n",
    "    print(f\"Error: {str(e)}\")\n"
   ]
  },
  {
   "cell_type": "markdown",
   "metadata": {},
   "source": [
    "Credentials"
   ]
  },
  {
   "cell_type": "code",
   "execution_count": 11,
   "metadata": {},
   "outputs": [],
   "source": [
    "aws_access_key_id = \"\"\n",
    "aws_secret_access_key = \"\""
   ]
  },
  {
   "cell_type": "markdown",
   "metadata": {},
   "source": [
    "Connexion + Sql Query"
   ]
  },
  {
   "cell_type": "code",
   "execution_count": 13,
   "metadata": {},
   "outputs": [
    {
     "name": "stdout",
     "output_type": "stream",
     "text": [
      "Connexion réussie !\n"
     ]
    }
   ],
   "source": [
    "import boto3\n",
    "\n",
    "# Initialisation du client Redshift Data\n",
    "client = boto3.client('redshift-data', region_name='us-west-2')\n",
    "\n",
    "# Paramètres de connexion\n",
    "database = 'dev'  # Remplace par le nom de ta base de données\n",
    "workgroup_name = 'wz-solutions-redshift-workgroup'  # Remplace par ton workgroup\n",
    "\n",
    "# Requête simple pour tester la connexion\n",
    "sql_query = 'SELECT 1;'\n",
    "\n",
    "try:\n",
    "    response = client.execute_statement(\n",
    "        Database=database,\n",
    "        WorkgroupName=workgroup_name,  # Ne spécifie plus db_user ici\n",
    "        Sql=sql_query\n",
    "    )\n",
    "    print(\"Connexion réussie !\")\n",
    "except Exception as e:\n",
    "    print(f\"Erreur de connexion : {e}\")"
   ]
  },
  {
   "cell_type": "code",
   "execution_count": null,
   "metadata": {},
   "outputs": [],
   "source": [
    "import boto3\n",
    "client = boto3.client('redshift', region_name='us-west-2', aws_access_key_id=aws_access_key_id, aws_secret_access_key=aws_secret_access_key)\n",
    "\n",
    "def list_clusters(redshift_client):\n",
    "    paginator = redshift_client.get_paginator('describe_clusters')\n",
    "    clusters = []\n",
    "    for page in paginator.paginate():\n",
    "        clusters.extend(page['Clusters'])\n",
    "    return clusters"
   ]
  },
  {
   "cell_type": "code",
   "execution_count": 10,
   "metadata": {},
   "outputs": [
    {
     "name": "stdout",
     "output_type": "stream",
     "text": [
      "Erreur lors de l'exécution de la requête : An error occurred (ValidationException) when calling the ExecuteStatement operation: DB User cannot be set during a serverless request.\n"
     ]
    }
   ],
   "source": [
    "import boto3\n",
    "import time\n",
    "\n",
    "# Initialiser le client boto3 pour l'API Data de Redshift\n",
    "client = boto3.client('redshift-data', region_name='us-west-2')\n",
    "\n",
    "# Paramètres de connexion\n",
    "database = ''  # Nom de votre base de données\n",
    "db_user = ''  # Nom de votre utilisateur de base de données\n",
    "workgroup_name = ''  # Nom de votre workgroup\n",
    "\n",
    "# Requête SQL à exécuter\n",
    "sql_query = 'SELECT * FROM votre_table LIMIT 10;'\n",
    "\n",
    "# Exécuter la requête SQL\n",
    "try:\n",
    "    response = client.execute_statement(\n",
    "        Database=database,\n",
    "        DbUser=db_user,\n",
    "        WorkgroupName=workgroup_name,\n",
    "        Sql=sql_query\n",
    "    )\n",
    "    query_id = response['Id']\n",
    "    print(f\"Requête soumise avec succès. ID de la requête : {query_id}\")\n",
    "\n",
    "    # Attendre que la requête se termine et récupérer les résultats\n",
    "    while True:\n",
    "        status = client.describe_statement(Id=query_id)\n",
    "        if status['Status'] in ['FINISHED', 'FAILED', 'ABORTED']:\n",
    "            break\n",
    "        time.sleep(1)\n",
    "\n",
    "    if status['Status'] == 'FINISHED':\n",
    "        result = client.get_statement_result(Id=query_id)\n",
    "        for record in result['Records']:\n",
    "            print(record)\n",
    "    else:\n",
    "        print(f\"La requête a échoué avec le statut : {status['Status']}\")\n",
    "\n",
    "except Exception as e:\n",
    "    print(f\"Erreur lors de l'exécution de la requête : {e}\")"
   ]
  },
  {
   "cell_type": "code",
   "execution_count": 9,
   "metadata": {},
   "outputs": [
    {
     "name": "stdout",
     "output_type": "stream",
     "text": [
      "Erreur lors de la connexion : ('connection time out', TimeoutError(10060, 'A connection attempt failed because the connected party did not properly respond after a period of time, or established connection failed because connected host has failed to respond', None, 10060, None))\n"
     ]
    }
   ],
   "source": [
    "import redshift_connector\n",
    "\n",
    "# Paramètres de connexion\n",
    "database = 'dev'  # Remplace par le nom de ta base de données\n",
    "db_user = ''  # Remplace par ton nom d'utilisateur IAM\n",
    "workgroup = ''  # Remplace par le nom de ton workgroup\n",
    "region = 'us-west-2'  # Remplace par ta région AWS\n",
    "\n",
    "# Connexion à Redshift Serverless avec IAM\n",
    "try:\n",
    "    conn = redshift_connector.connect(\n",
    "    host='',\n",
    "    database='',\n",
    "    user='',\n",
    "    password=''\n",
    ")\n",
    "    print(\"Connexion réussie avec IAM!\")\n",
    "except Exception as e:\n",
    "    print(f\"Erreur lors de la connexion : {e}\")\n"
   ]
  },
  {
   "cell_type": "code",
   "execution_count": null,
   "metadata": {},
   "outputs": [
    {
     "name": "stdout",
     "output_type": "stream",
     "text": [
      "Erreur de connexion ❌: connection to server at \"wz-solutions-redshift-workgroup.767828765654.us-west-2.redshift-serverless.amazonaws.com\" (44.245.165.204), port 5439 failed: Connection timed out (0x0000274C/10060)\n",
      "\tIs the server running on that host and accepting TCP/IP connections?\n",
      "\n"
     ]
    }
   ],
   "source": [
    "# Créer un curseur\n",
    "cur = conn.cursor()\n",
    "\n",
    "# Exécuter une requête SELECT\n",
    "cur.execute(\"SELECT * FROM public.your_table LIMIT 10;\")\n",
    "\n",
    "# Récupérer les résultats\n",
    "rows = cur.fetchall()\n",
    "\n",
    "# Afficher les résultats\n",
    "for row in rows:\n",
    "    print(row)\n",
    "\n",
    "# Fermer le curseur et la connexion\n",
    "cur.close()\n",
    "conn.close()\n"
   ]
  },
  {
   "cell_type": "code",
   "execution_count": 32,
   "metadata": {},
   "outputs": [],
   "source": [
    "# Créer les tables Redshift"
   ]
  },
  {
   "cell_type": "code",
   "execution_count": null,
   "metadata": {},
   "outputs": [
    {
     "name": "stdout",
     "output_type": "stream",
     "text": [
      "Name: pandas\n",
      "Version: 2.2.3\n",
      "Summary: Powerful data structures for data analysis, time series, and statistics\n",
      "Home-page: https://pandas.pydata.org\n",
      "Author: \n",
      "Author-email: The Pandas Development Team <pandas-dev@python.org>\n",
      "License: BSD 3-Clause License\n",
      "\n",
      "Copyright (c) 2008-2011, AQR Capital Management, LLC, Lambda Foundry, Inc. and PyData Development Team\n",
      "All rights reserved.\n",
      "\n",
      "Copyright (c) 2011-2023, Open source contributors.\n",
      "\n",
      "Redistribution and use in source and binary forms, with or without\n",
      "modification, are permitted provided that the following conditions are met:\n",
      "\n",
      "* Redistributions of source code must retain the above copyright notice, this\n",
      "  list of conditions and the following disclaimer.\n",
      "\n",
      "* Redistributions in binary form must reproduce the above copyright notice,\n",
      "  this list of conditions and the following disclaimer in the documentation\n",
      "  and/or other materials provided with the distribution.\n",
      "\n",
      "* Neither the name of the copyright holder nor the names of its\n",
      "  contributors may be used to endorse or promote products derived from\n",
      "  this software without specific prior written permission.\n",
      "\n",
      "THIS SOFTWARE IS PROVIDED BY THE COPYRIGHT HOLDERS AND CONTRIBUTORS \"AS IS\"\n",
      "AND ANY EXPRESS OR IMPLIED WARRANTIES, INCLUDING, BUT NOT LIMITED TO, THE\n",
      "IMPLIED WARRANTIES OF MERCHANTABILITY AND FITNESS FOR A PARTICULAR PURPOSE ARE\n",
      "DISCLAIMED. IN NO EVENT SHALL THE COPYRIGHT HOLDER OR CONTRIBUTORS BE LIABLE\n",
      "FOR ANY DIRECT, INDIRECT, INCIDENTAL, SPECIAL, EXEMPLARY, OR CONSEQUENTIAL\n",
      "DAMAGES (INCLUDING, BUT NOT LIMITED TO, PROCUREMENT OF SUBSTITUTE GOODS OR\n",
      "SERVICES; LOSS OF USE, DATA, OR PROFITS; OR BUSINESS INTERRUPTION) HOWEVER\n",
      "CAUSED AND ON ANY THEORY OF LIABILITY, WHETHER IN CONTRACT, STRICT LIABILITY,\n",
      "OR TORT (INCLUDING NEGLIGENCE OR OTHERWISE) ARISING IN ANY WAY OUT OF THE USE\n",
      "OF THIS SOFTWARE, EVEN IF ADVISED OF THE POSSIBILITY OF SUCH DAMAGE.\n",
      "Location: c:\\Users\\markz\\AppData\\Local\\Programs\\Python\\Python312\\Lib\\site-packages\n",
      "Requires: numpy, python-dateutil, pytz, tzdata\n",
      "Required-by: alpaca-trade-api, CryptPandas, ffn, pandas-datareader, pyti, seaborn, statsmodels, ta, yfinance\n",
      "Note: you may need to restart the kernel to use updated packages.\n"
     ]
    }
   ],
   "source": [
    "# Charger les CSV dans Redshift : \n",
    "# 2️⃣ Via S3 + COPY (grands fichiers CSV)\n",
    "# 1️⃣ Uploader les CSV sur un bucket S3\n",
    "# 2️⃣ Exécuter la commande SQL COPY depuis Redshift\n",
    "\n",
    "# s'assurer que tout est bien importé"
   ]
  },
  {
   "cell_type": "code",
   "execution_count": null,
   "metadata": {},
   "outputs": [],
   "source": []
  },
  {
   "cell_type": "code",
   "execution_count": 12,
   "metadata": {},
   "outputs": [
    {
     "name": "stdout",
     "output_type": "stream",
     "text": [
      "Name: SQLAlchemyNote: you may need to restart the kernel to use updated packages.\n",
      "\n",
      "Version: 2.0.37\n",
      "Summary: Database Abstraction Library\n",
      "Home-page: https://www.sqlalchemy.org\n",
      "Author: Mike Bayer\n",
      "Author-email: mike_mp@zzzcomputing.com\n",
      "License: MIT\n",
      "Location: c:\\Users\\markz\\AppData\\Local\\Programs\\Python\\Python312\\Lib\\site-packages\n",
      "Requires: greenlet, typing-extensions\n",
      "Required-by: \n"
     ]
    }
   ],
   "source": []
  },
  {
   "cell_type": "code",
   "execution_count": null,
   "metadata": {},
   "outputs": [],
   "source": []
  }
 ],
 "metadata": {
  "kernelspec": {
   "display_name": "Python 3",
   "language": "python",
   "name": "python3"
  },
  "language_info": {
   "codemirror_mode": {
    "name": "ipython",
    "version": 3
   },
   "file_extension": ".py",
   "mimetype": "text/x-python",
   "name": "python",
   "nbconvert_exporter": "python",
   "pygments_lexer": "ipython3",
   "version": "3.12.4"
  }
 },
 "nbformat": 4,
 "nbformat_minor": 2
}
