{
 "cells": [
  {
   "cell_type": "code",
   "execution_count": null,
   "metadata": {},
   "outputs": [],
   "source": []
  },
  {
   "cell_type": "code",
   "execution_count": 2,
   "metadata": {},
   "outputs": [],
   "source": [
    "import pandas as pd\n",
    "import numpy as np"
   ]
  },
  {
   "cell_type": "code",
   "execution_count": 4,
   "metadata": {},
   "outputs": [],
   "source": [
    "abonnements = pd.read_csv(\"veolia-data-abonnements.csv\")\n",
    "consommation = pd.read_csv(\"veolia-data-consos.csv\")\n",
    "factures = pd.read_csv(\"veolia-data-factures.csv\")"
   ]
  },
  {
   "cell_type": "code",
   "execution_count": 6,
   "metadata": {},
   "outputs": [
    {
     "data": {
      "text/html": [
       "<div>\n",
       "<style scoped>\n",
       "    .dataframe tbody tr th:only-of-type {\n",
       "        vertical-align: middle;\n",
       "    }\n",
       "\n",
       "    .dataframe tbody tr th {\n",
       "        vertical-align: top;\n",
       "    }\n",
       "\n",
       "    .dataframe thead th {\n",
       "        text-align: right;\n",
       "    }\n",
       "</style>\n",
       "<table border=\"1\" class=\"dataframe\">\n",
       "  <thead>\n",
       "    <tr style=\"text-align: right;\">\n",
       "      <th></th>\n",
       "      <th>CLE_PDS</th>\n",
       "      <th>LIBELLE_REGION</th>\n",
       "      <th>LIBELLE_TERRITOIRE</th>\n",
       "      <th>CODE_CONTRAT</th>\n",
       "      <th>LIBELLE_CATEGORIE_ABONNE</th>\n",
       "      <th>DIAMETRE_NOMINAL</th>\n",
       "      <th>TYPE_ABAQUE</th>\n",
       "      <th>MOIS_CONSO</th>\n",
       "      <th>ANNEE_CONSO</th>\n",
       "      <th>DATE_CONSO_MOIS</th>\n",
       "      <th>VOLUME_MOIS</th>\n",
       "    </tr>\n",
       "  </thead>\n",
       "  <tbody>\n",
       "    <tr>\n",
       "      <th>0</th>\n",
       "      <td>GN|07744010200392</td>\n",
       "      <td>Ile de France</td>\n",
       "      <td>Seine et Marne</td>\n",
       "      <td>E4660</td>\n",
       "      <td>PROFESSIONNELS</td>\n",
       "      <td>0.0</td>\n",
       "      <td>INACTIF</td>\n",
       "      <td>8</td>\n",
       "      <td>2022</td>\n",
       "      <td>2022-08-01</td>\n",
       "      <td>0.000000</td>\n",
       "    </tr>\n",
       "    <tr>\n",
       "      <th>1</th>\n",
       "      <td>GN|07744010201832</td>\n",
       "      <td>Ile de France</td>\n",
       "      <td>Seine et Marne</td>\n",
       "      <td>E4660</td>\n",
       "      <td>PROFESSIONNELS</td>\n",
       "      <td>15.0</td>\n",
       "      <td>INACTIF</td>\n",
       "      <td>8</td>\n",
       "      <td>2022</td>\n",
       "      <td>2022-08-01</td>\n",
       "      <td>0.000000</td>\n",
       "    </tr>\n",
       "    <tr>\n",
       "      <th>2</th>\n",
       "      <td>GN|07421002002279</td>\n",
       "      <td>Ile de France</td>\n",
       "      <td>Seine et Marne</td>\n",
       "      <td>E4660</td>\n",
       "      <td>PROFESSIONNELS</td>\n",
       "      <td>15.0</td>\n",
       "      <td>INACTIF</td>\n",
       "      <td>8</td>\n",
       "      <td>2022</td>\n",
       "      <td>2022-08-01</td>\n",
       "      <td>0.000000</td>\n",
       "    </tr>\n",
       "    <tr>\n",
       "      <th>3</th>\n",
       "      <td>GN|07421002002647</td>\n",
       "      <td>Ile de France</td>\n",
       "      <td>Seine et Marne</td>\n",
       "      <td>E4660</td>\n",
       "      <td>APPAREILS PUBLICS COMMUNAUX</td>\n",
       "      <td>20.0</td>\n",
       "      <td>ABAQUE_ML_INTERPO</td>\n",
       "      <td>1</td>\n",
       "      <td>2024</td>\n",
       "      <td>2024-01-01</td>\n",
       "      <td>0.000000</td>\n",
       "    </tr>\n",
       "    <tr>\n",
       "      <th>4</th>\n",
       "      <td>GN|07421001002741</td>\n",
       "      <td>Ile de France</td>\n",
       "      <td>Seine et Marne</td>\n",
       "      <td>E4660</td>\n",
       "      <td>BATIMENTS COLLECTIFS PUBLICS</td>\n",
       "      <td>40.0</td>\n",
       "      <td>ABAQUE_ML_INTERPO</td>\n",
       "      <td>1</td>\n",
       "      <td>2024</td>\n",
       "      <td>2024-01-01</td>\n",
       "      <td>48.454092</td>\n",
       "    </tr>\n",
       "  </tbody>\n",
       "</table>\n",
       "</div>"
      ],
      "text/plain": [
       "             CLE_PDS LIBELLE_REGION LIBELLE_TERRITOIRE CODE_CONTRAT  \\\n",
       "0  GN|07744010200392  Ile de France     Seine et Marne        E4660   \n",
       "1  GN|07744010201832  Ile de France     Seine et Marne        E4660   \n",
       "2  GN|07421002002279  Ile de France     Seine et Marne        E4660   \n",
       "3  GN|07421002002647  Ile de France     Seine et Marne        E4660   \n",
       "4  GN|07421001002741  Ile de France     Seine et Marne        E4660   \n",
       "\n",
       "       LIBELLE_CATEGORIE_ABONNE  DIAMETRE_NOMINAL        TYPE_ABAQUE  \\\n",
       "0                PROFESSIONNELS               0.0            INACTIF   \n",
       "1                PROFESSIONNELS              15.0            INACTIF   \n",
       "2                PROFESSIONNELS              15.0            INACTIF   \n",
       "3   APPAREILS PUBLICS COMMUNAUX              20.0  ABAQUE_ML_INTERPO   \n",
       "4  BATIMENTS COLLECTIFS PUBLICS              40.0  ABAQUE_ML_INTERPO   \n",
       "\n",
       "   MOIS_CONSO  ANNEE_CONSO DATE_CONSO_MOIS  VOLUME_MOIS  \n",
       "0           8         2022      2022-08-01     0.000000  \n",
       "1           8         2022      2022-08-01     0.000000  \n",
       "2           8         2022      2022-08-01     0.000000  \n",
       "3           1         2024      2024-01-01     0.000000  \n",
       "4           1         2024      2024-01-01    48.454092  "
      ]
     },
     "execution_count": 6,
     "metadata": {},
     "output_type": "execute_result"
    }
   ],
   "source": [
    "consommation.head()"
   ]
  },
  {
   "cell_type": "code",
   "execution_count": 7,
   "metadata": {},
   "outputs": [
    {
     "name": "stdout",
     "output_type": "stream",
     "text": [
      "Collecting psycopg2-binary"
     ]
    },
    {
     "name": "stderr",
     "output_type": "stream",
     "text": [
      "\n",
      "[notice] A new release of pip is available: 24.3.1 -> 25.0\n",
      "[notice] To update, run: python.exe -m pip install --upgrade pip\n"
     ]
    },
    {
     "name": "stdout",
     "output_type": "stream",
     "text": [
      "\n",
      "  Downloading psycopg2_binary-2.9.10-cp312-cp312-win_amd64.whl.metadata (5.0 kB)\n",
      "Collecting sqlalchemy\n",
      "  Downloading SQLAlchemy-2.0.37-cp312-cp312-win_amd64.whl.metadata (9.9 kB)\n",
      "Requirement already satisfied: pandas in c:\\users\\markz\\appdata\\local\\programs\\python\\python312\\lib\\site-packages (2.2.3)\n",
      "Collecting greenlet!=0.4.17 (from sqlalchemy)\n",
      "  Downloading greenlet-3.1.1-cp312-cp312-win_amd64.whl.metadata (3.9 kB)\n",
      "Requirement already satisfied: typing-extensions>=4.6.0 in c:\\users\\markz\\appdata\\local\\programs\\python\\python312\\lib\\site-packages (from sqlalchemy) (4.12.2)\n",
      "Requirement already satisfied: numpy>=1.26.0 in c:\\users\\markz\\appdata\\local\\programs\\python\\python312\\lib\\site-packages (from pandas) (1.26.4)\n",
      "Requirement already satisfied: python-dateutil>=2.8.2 in c:\\users\\markz\\appdata\\roaming\\python\\python312\\site-packages (from pandas) (2.9.0.post0)\n",
      "Requirement already satisfied: pytz>=2020.1 in c:\\users\\markz\\appdata\\local\\programs\\python\\python312\\lib\\site-packages (from pandas) (2024.2)\n",
      "Requirement already satisfied: tzdata>=2022.7 in c:\\users\\markz\\appdata\\local\\programs\\python\\python312\\lib\\site-packages (from pandas) (2024.2)\n",
      "Requirement already satisfied: six>=1.5 in c:\\users\\markz\\appdata\\roaming\\python\\python312\\site-packages (from python-dateutil>=2.8.2->pandas) (1.16.0)\n",
      "Downloading psycopg2_binary-2.9.10-cp312-cp312-win_amd64.whl (1.2 MB)\n",
      "   ---------------------------------------- 0.0/1.2 MB ? eta -:--:--\n",
      "   ---------------------------------------- 1.2/1.2 MB 14.3 MB/s eta 0:00:00\n",
      "Downloading SQLAlchemy-2.0.37-cp312-cp312-win_amd64.whl (2.1 MB)\n",
      "   ---------------------------------------- 0.0/2.1 MB ? eta -:--:--\n",
      "   ---------------------------------------- 2.1/2.1 MB 29.2 MB/s eta 0:00:00\n",
      "Downloading greenlet-3.1.1-cp312-cp312-win_amd64.whl (299 kB)\n",
      "Installing collected packages: psycopg2-binary, greenlet, sqlalchemy\n",
      "Successfully installed greenlet-3.1.1 psycopg2-binary-2.9.10 sqlalchemy-2.0.37\n"
     ]
    }
   ],
   "source": [
    "import psycopg2\n",
    "\n",
    "# Paramètres Redshift\n",
    "DB_NAME = \"dev\"\n",
    "DB_USER = \"awsuser\"\n",
    "DB_PASSWORD = \"ton_mot_de_passe\"\n",
    "DB_HOST = \"my-redshift-workgroup.abcdefg.us-west-2.redshift.amazonaws.com\"\n",
    "DB_PORT = \"5439\"\n",
    "\n",
    "# Connexion à Redshift\n",
    "try:\n",
    "    conn = psycopg2.connect(\n",
    "        dbname=DB_NAME,\n",
    "        user=DB_USER,\n",
    "        password=DB_PASSWORD,\n",
    "        host=DB_HOST,\n",
    "        port=DB_PORT\n",
    "    )\n",
    "    print(\"Connexion réussie à Redshift ✅\")\n",
    "except Exception as e:\n",
    "    print(\"Erreur de connexion ❌:\", e)\n"
   ]
  },
  {
   "cell_type": "code",
   "execution_count": null,
   "metadata": {},
   "outputs": [],
   "source": [
    "# Créer les tables Redshift"
   ]
  },
  {
   "cell_type": "code",
   "execution_count": null,
   "metadata": {},
   "outputs": [
    {
     "name": "stdout",
     "output_type": "stream",
     "text": [
      "Name: pandas\n",
      "Version: 2.2.3\n",
      "Summary: Powerful data structures for data analysis, time series, and statistics\n",
      "Home-page: https://pandas.pydata.org\n",
      "Author: \n",
      "Author-email: The Pandas Development Team <pandas-dev@python.org>\n",
      "License: BSD 3-Clause License\n",
      "\n",
      "Copyright (c) 2008-2011, AQR Capital Management, LLC, Lambda Foundry, Inc. and PyData Development Team\n",
      "All rights reserved.\n",
      "\n",
      "Copyright (c) 2011-2023, Open source contributors.\n",
      "\n",
      "Redistribution and use in source and binary forms, with or without\n",
      "modification, are permitted provided that the following conditions are met:\n",
      "\n",
      "* Redistributions of source code must retain the above copyright notice, this\n",
      "  list of conditions and the following disclaimer.\n",
      "\n",
      "* Redistributions in binary form must reproduce the above copyright notice,\n",
      "  this list of conditions and the following disclaimer in the documentation\n",
      "  and/or other materials provided with the distribution.\n",
      "\n",
      "* Neither the name of the copyright holder nor the names of its\n",
      "  contributors may be used to endorse or promote products derived from\n",
      "  this software without specific prior written permission.\n",
      "\n",
      "THIS SOFTWARE IS PROVIDED BY THE COPYRIGHT HOLDERS AND CONTRIBUTORS \"AS IS\"\n",
      "AND ANY EXPRESS OR IMPLIED WARRANTIES, INCLUDING, BUT NOT LIMITED TO, THE\n",
      "IMPLIED WARRANTIES OF MERCHANTABILITY AND FITNESS FOR A PARTICULAR PURPOSE ARE\n",
      "DISCLAIMED. IN NO EVENT SHALL THE COPYRIGHT HOLDER OR CONTRIBUTORS BE LIABLE\n",
      "FOR ANY DIRECT, INDIRECT, INCIDENTAL, SPECIAL, EXEMPLARY, OR CONSEQUENTIAL\n",
      "DAMAGES (INCLUDING, BUT NOT LIMITED TO, PROCUREMENT OF SUBSTITUTE GOODS OR\n",
      "SERVICES; LOSS OF USE, DATA, OR PROFITS; OR BUSINESS INTERRUPTION) HOWEVER\n",
      "CAUSED AND ON ANY THEORY OF LIABILITY, WHETHER IN CONTRACT, STRICT LIABILITY,\n",
      "OR TORT (INCLUDING NEGLIGENCE OR OTHERWISE) ARISING IN ANY WAY OUT OF THE USE\n",
      "OF THIS SOFTWARE, EVEN IF ADVISED OF THE POSSIBILITY OF SUCH DAMAGE.\n",
      "Location: c:\\Users\\markz\\AppData\\Local\\Programs\\Python\\Python312\\Lib\\site-packages\n",
      "Requires: numpy, python-dateutil, pytz, tzdata\n",
      "Required-by: alpaca-trade-api, CryptPandas, ffn, pandas-datareader, pyti, seaborn, statsmodels, ta, yfinance\n",
      "Note: you may need to restart the kernel to use updated packages.\n"
     ]
    }
   ],
   "source": [
    "# Charger les CSV dans Redshift : \n",
    "# 2️⃣ Via S3 + COPY (grands fichiers CSV)\n",
    "# 1️⃣ Uploader les CSV sur un bucket S3\n",
    "# 2️⃣ Exécuter la commande SQL COPY depuis Redshift\n",
    "\n",
    "# s'assurer que tout est bien importé"
   ]
  },
  {
   "cell_type": "code",
   "execution_count": null,
   "metadata": {},
   "outputs": [],
   "source": []
  },
  {
   "cell_type": "code",
   "execution_count": 12,
   "metadata": {},
   "outputs": [
    {
     "name": "stdout",
     "output_type": "stream",
     "text": [
      "Name: SQLAlchemyNote: you may need to restart the kernel to use updated packages.\n",
      "\n",
      "Version: 2.0.37\n",
      "Summary: Database Abstraction Library\n",
      "Home-page: https://www.sqlalchemy.org\n",
      "Author: Mike Bayer\n",
      "Author-email: mike_mp@zzzcomputing.com\n",
      "License: MIT\n",
      "Location: c:\\Users\\markz\\AppData\\Local\\Programs\\Python\\Python312\\Lib\\site-packages\n",
      "Requires: greenlet, typing-extensions\n",
      "Required-by: \n"
     ]
    }
   ],
   "source": []
  },
  {
   "cell_type": "code",
   "execution_count": null,
   "metadata": {},
   "outputs": [],
   "source": []
  }
 ],
 "metadata": {
  "kernelspec": {
   "display_name": "Python 3",
   "language": "python",
   "name": "python3"
  },
  "language_info": {
   "codemirror_mode": {
    "name": "ipython",
    "version": 3
   },
   "file_extension": ".py",
   "mimetype": "text/x-python",
   "name": "python",
   "nbconvert_exporter": "python",
   "pygments_lexer": "ipython3",
   "version": "3.12.4"
  }
 },
 "nbformat": 4,
 "nbformat_minor": 2
}
