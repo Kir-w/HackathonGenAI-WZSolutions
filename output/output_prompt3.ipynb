🔍 Détection d'anomalies dans les jointures entre tables
🔄 Exécution de la requête : 
    SELECT 
        a.CLE_ABONNEMENT, 
        a.DATE_RESILIATION_ABONNEMENT,
        c.VOLUME_MOIS,
        f.CONSO_FACTURE,
        f.DATE_EMISSION_FACTURE
    FROM abonnements a
    LEFT JOIN consommations c ON a.CLE_ABONNEMENT = c.CLE_PDS
    LEFT JOIN factures f ON a.CLE_ABONNEMENT = f.CLE_ABONNEMENT
    WHERE 
        (a.DATE_RESILIATION_ABONNEMENT IS NOT NULL AND a.DATE_RESILIATION_ABONNEMENT < CURRENT_DATE)
        OR (c.VOLUME_MOIS > 0 AND a.DATE_RESILIATION_ABONNEMENT IS NOT NULL AND a.DATE_RESILIATION_ABONNEMENT < CURRENT_DATE)
        OR (f.CONSO_FACTURE > 0 AND a.DATE_RESILIATION_ABONNEMENT IS NOT NULL AND a.DATE_RESILIATION_ABONNEMENT < CURRENT_DATE)
    LIMIT 100;

    
✅ Requête envoyée, ID: 751809c8-f4c0-4229-aaba-feae77c25af0
🔴 Statut final : FINISHED
✅ Requête terminée, récupération des résultats...
🔄 Envoi du prompt à Mistral AI...
✅ Réponse reçue de Mistral.

🔎 **Rapport d'Anomalies dans les Jointures** 🔎


    Type d'anomalie : Factures sans abonnement actif
    Description : Des factures ont été émises pour des abonnements qui ne sont pas actifs.
    Requête SQL :
    ```
    SELECT f.num_fac_par_pds, f.date_emission_facture, a.cle_abonnement
    FROM factures f
    LEFT JOIN abonnements a ON f.cle_abonnement = a.cle_abonnement
    WHERE a.cle_abonnement IS NULL;
    ```

    Type d'anomalie : Factures sans date d'émission
    Description : Des factures ont été enregistrées sans date d'émission.
    Requête SQL :
    ```
    SELECT f.num_fac_par_pds
    FROM factures f
    WHERE f.date_emission_facture IS NULL;
    ```

    Type d'anomalie : Factures sans relevé d'index
    Description : Des factures ont été émises sans relevé d'index.
    Requête SQL :
    ```
    SELECT f.num_fac_par_pds
    FROM factures f
    WHERE f.date_releve_index_facture IS NULL;
    ```

    Type d'anomalie : Factures sans abonnement
    Description : Des factures ont été enregistrées sans abonnement associé.
    Requête SQL :
    ```
    SELECT f.num_fac_par_pds
    FROM factures f
    LEFT JOIN abonnements a ON f.cle_abonnement = a.cle_abonnement
    WHERE a.cle_abonnement IS NULL;
    ```

    Type d'anomalie : Abonnements sans factures
    Description : Des abonnements n'ont aucune facture associée.
    Requête SQL :
    ```
    SELECT a.cle_abonnement
    FROM abonnements a
    LEFT JOIN factures f ON a.cle_abonnement = f.cle_abonnement
    WHERE f.cle_abonnement IS NULL;
    ```

    Type d'anomalie : Abonnements sans date de souscription
    Description : Des abonnements n'ont pas de date de souscription.
    Requête SQL :
    ```
    SELECT a.cle_abonnement
    FROM abonnements a
    WHERE a.date_souscription_abonnement IS NULL;
    ```

    Type d'anomalie : Abonnements sans date d'entrée en vigueur locale
    Description : Des abonnements n'ont pas de date d'entrée en vigueur locale.
    Requête SQL :
    ```
    SELECT a.cle_abonnement
    FROM abonnements a
    WHERE a.date_entree_local_abonnement IS NULL;
    ```

    Type d'anomalie : Abonnements sans date de résiliation
    Description : Des abonnements n'ont pas de date de résiliation.
    Requête SQL :
    ```
    SELECT a.cle_abonnement
    FROM abonnements a
    WHERE a.date_resiliation_abonnement IS NULL;
    ```

    Type d'anomalie : Abonnements avec date de résiliation antérieure à la date de souscription
    Description : Des abonnements ont une date de résiliation antérieure à la date de souscription.
    Requête SQL :
    ```
    SELECT a.cle_abonnement, a.date_souscription_abonnement, a.date_resiliation_abonnement
    FROM abonnements a
    WHERE a.date_resiliation_abonnement < a.date_souscription_abonnement;
    ```

    Type d'anomalie : Abonnements avec date de résiliation antérieure à la date d'entrée en vigueur locale
    Description : Des abonnements ont une date de résiliation antérieure à la date d'entrée en vigueur locale.
    Requête SQL :
    ```
    SELECT a.cle_abonnement, a.date_entree_local_abonnement, a.date_resiliation_abonnement
    FROM abonnements a
    WHERE a.date_resiliation_abonnement < a.date_entree_local_abonnement;
    ```

    Type d'anomalie : Abonnements avec date d'entrée en vigueur locale antérieure à la date de souscription
    Description : Des abonnements ont une date d'entrée en vigueur locale antérieure à la date de souscription.
    Requête SQL :
    ```
    SELECT a.cle_abonnement, a.date_souscription_abonnement, a.date_entree_local_abonnement
    FROM abonnements a
    WHERE a.date_entree_local_abonnement < a.date_souscription_abonnement;
    ```

    Type d'anomalie : Abonnements avec date d'entrée en vigueur locale postérieure à la date de résiliation
    Description : Des abonnements ont une date d'entrée en vigueur locale postérieure à la date de résiliation.
    Requête SQL :
    ```
    SELECT a.cle_abonnement, a.date_resiliation_abonnement, a.date_entree_local_abonnement
    FROM abonnements a
    WHERE a.date_entree_local_abonnement > a.date_resiliation_abonnement;
    ```

    Type d'anomalie : Abonnements avec date de souscription postérieure à la date de résiliation
    Description : Des abonnements ont une date de souscription postérieure à la date de résiliation.
    Requête SQL :
    ```
    SELECT a.cle_abonnement, a.date_resiliation_abonnement, a.date_souscription_abonnement
    FROM abonnements a
    WHERE a.date_souscription_abonnement > a.date_resiliation_abonnement;
    ```

    Type d'anomalie : Abonnements avec date de souscription postérieure à la date d'entrée en vigueur locale
    Description : Des abonnements ont une date de souscription postérieure à la date d'entrée en vigueur locale.
    Requête SQL :
    ```
    SELECT a.cle_abonnement, a.date_entree_local_abonnement, a.date_souscription_abonnement
    FROM abonnements a
    WHERE a.date_souscription_abonnement > a.date_entree_local_abonnement;
    ```

    Type d'anomalie : Abonnements avec date d'entrée en vigueur locale postérieure à la date d'entrée en vigueur locale précédente
    Description : Des abonnements ont une date d'entrée en vigueur locale postérieure à la date d'entrée en vigueur locale précédente.
    Requête SQL :
    ```
    SELECT a.cle_abonnement, a.date_entree_local_abonnement, a.date_entree_local_abonnement_precedente
    FROM abonnements a
    WHERE a.date_entree_local_abonnement > a.date_entree_local_abonnement_precedente;
    ```

    Type d'anomalie : Abonnements avec date de souscription postérieure à la date de souscription précédente
    Description : Des abonnements ont une date de souscription postérieure à la date de souscription précédente.
    Requête SQL :
    ```
    SELECT a.cle_abonnement, a.date_souscription_abonnement, a.date_souscription_abonnement_precedente
    FROM abonnements a
    WHERE a.date_souscription_abonnement > a.date_souscription_abonnement_precedente;
    ```

    Type d'anomalie : Abonnements avec date de résiliation antérieure à la date de résiliation précédente
    Description : Des abonnements ont une date de résiliation antérieure à la date de résiliation précédente.
    Requête SQL :
    ```
    SELECT a.cle_abonnement, a.date_resiliation_abonnement, a.date_resiliation_abonnement_precedente
    FROM abonnements a
    WHERE a.date_resiliation_abonnement < a.date_resiliation_abonnement_precedente;
    ```

    Type d'anomalie : Abonnements avec date de résiliation antérieure à la date d'entrée en vigueur locale précédente
    Description : Des abonnements ont une date de résiliation antérieure à la date d'entrée en vigueur locale précédente.
    Requête SQL :
    ```
    SELECT a.cle_abonnement, a.date_resiliation_abonnement, a.date_entree_local_abonnement_precedente
    FROM abonnements a
    WHERE a.date_resiliation_abonnement < a.date_entree_local_abonnement_precedente;
    ```

    Type d'anomalie : Abonnements avec date d'entrée en vigueur locale précédente postérieure à la date d'entrée en vigueur locale
    Description : Des abonnements ont une date d'entrée en vigueur locale précédente postérieure à la date d'entrée en vigueur locale.
    Requête SQL :
    ```
    SELECT a.cle_abonnement, a.date_entree_local_abonnement, a.date_entree_local_abonnement_precedente
    FROM abonnements a
    WHERE a.date_entree_local_abonnement_precedente > a.date_entree_local_abonnement;
    ```

    Type d'anomalie : Abonnements avec date de souscription précédente postérieure à la date de souscription
    Description : Des abonnements ont une date de souscription précédente postérieure à la date de souscription.
    Requête SQL :
    ```
    SELECT a.cle_abonnement, a.date_souscription_abonnement, a.date_souscription_abonnement_precedente
    FROM abonnements a
    WHERE a.date_souscription_abonnement_precedente > a.date_souscription_abonnement;
    ```

    Type d'anomalie : Abonnements avec date de résiliation précédente antérieure à la date de résiliation
    Description : Des abonnements ont une date de résiliation précédente antérieure à la date de résiliation.
    Requête SQL :
    ```
    SELECT a.cle_abonnement, a.date_resiliation_abonnement, a.date_resiliation_abonnement_precedente
    FROM abonnements a
    WHERE a.date_resiliation_abonnement_precedente < a.date_resiliation_abonnement;
    ```

    Type d'anomalie : Abonnements avec date de résiliation précédente antérieure à la date d'entrée en vigueur locale
    Description : Des abonnements ont une date de résiliation précédente antérieure à la date d'entrée en vigueur locale.
    Requête SQL :
    ```
    SELECT a.cle_abonnement, a.date_resiliation_abonnement, a.date_entree_local_abonnement
    FROM abonnements a
    WHERE a.date_resiliation_abonnement_precedente < a.date_entree_local_abonnement;
    ```

    Type d'anomalie : Abonnements avec date d'entrée en vigueur locale précédente antérieure à la date d'entrée en vigueur locale
    Description : Des abonnements ont une date d'entrée en vigueur locale précédente antérieure à la date d'entrée en vigueur locale.
    Requête SQL :

