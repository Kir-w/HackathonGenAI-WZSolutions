
 Analyse des Tables Redshift 


    abonnements
    1. Gère les informations sur les abonnements des clients.
    2. cle_abonnement : identifiant unique de l'abonnement
     date_entree_local_abonnement : date d'entrée en vigueur locale de l'abonnement
     date_resiliation_abonnement : date de résiliation de l'abonnement
     date_souscription_abonnement : date de souscription de l'abonnement

    consommations
    1. Enregistre les données de consommation des clients.
    2. annee_conso : année de la consommation
     mois_conso : mois de la consommation
     diametre_nominal : diamètre nominal de la conduite
     volume_mois : volume consommé dans le mois
     type_abaque : type d'abaque utilisé pour le calcul de la consommation
     libelle_categorie_abonne : libellé de la catégorie de l'abonné
     code_contrat : code du contrat
     libelle_territoire : libellé du territoire
     libelle_region : libellé de la région
     cle_pds : identifiant unique du point de livraison
     date_conso_mois : date de la consommation mensuelle

    factures
    1. Gère les informations sur les factures émises aux clients.
    2. num_fac_par_pds : numéro de facture par point de livraison
     nb_jours_connus : nombre de jours connus pour la facturation
     nb_factures_par_pds : nombre de factures par point de livraison
     conso_facture : consommation facturée
     cle_facture : identifiant unique de la facture
     cle_abonnement : identifiant de l'abonnement associé à la facture
     date_emission_facture : date d'émission de la facture
     date_releve_index_facture : date du relevé d'index de la facture
     date_releve_index_precedent_facture_composite : date du relevé d'index précédent de la facture composite
