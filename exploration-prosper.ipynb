{
  "cells": [
    {
      "cell_type": "code",
      "execution_count": 3,
      "metadata": {
        "colab": {
          "base_uri": "https://localhost:8080/"
        },
        "id": "RCR5o9l7Aeiq",
        "outputId": "bb00ffa3-7992-46f9-f3ee-5daf0cc42d44"
      },
      "outputs": [
        {
          "name": "stdout",
          "output_type": "stream",
          "text": [
            "📂 Aperçu des abonnements\n",
            "        CLE_ABONNEMENT DATE_ENTREE_LOCAL_ABONNEMENT  \\\n",
            "0  GN_1180180100000501                          NaN   \n",
            "1  GN_1180180100000506                   2014-11-19   \n",
            "2  GN_1180180100000901                          NaN   \n",
            "3  GN_1180180100004301                          NaN   \n",
            "4  GN_1180180100012507                   2004-11-19   \n",
            "\n",
            "  DATE_SOUSCRIPTION_ABONNEMENT DATE_RESILIATION_ABONNEMENT  \n",
            "0                          NaN                  2003-09-16  \n",
            "1                   2014-11-25                  2015-09-10  \n",
            "2                          NaN                  2003-02-21  \n",
            "3                          NaN                  1993-12-16  \n",
            "4                   2004-11-19                  2007-01-01  \n",
            "\n",
            "📂 Aperçu des consommations\n",
            "             CLE_PDS LIBELLE_REGION LIBELLE_TERRITOIRE CODE_CONTRAT  \\\n",
            "0  GN|07744010200392  Ile de France     Seine et Marne        E4660   \n",
            "1  GN|07744010201832  Ile de France     Seine et Marne        E4660   \n",
            "2  GN|07421002002279  Ile de France     Seine et Marne        E4660   \n",
            "3  GN|07421002002647  Ile de France     Seine et Marne        E4660   \n",
            "4  GN|07421001002741  Ile de France     Seine et Marne        E4660   \n",
            "\n",
            "       LIBELLE_CATEGORIE_ABONNE  DIAMETRE_NOMINAL        TYPE_ABAQUE  \\\n",
            "0                PROFESSIONNELS               0.0            INACTIF   \n",
            "1                PROFESSIONNELS              15.0            INACTIF   \n",
            "2                PROFESSIONNELS              15.0            INACTIF   \n",
            "3   APPAREILS PUBLICS COMMUNAUX              20.0  ABAQUE_ML_INTERPO   \n",
            "4  BATIMENTS COLLECTIFS PUBLICS              40.0  ABAQUE_ML_INTERPO   \n",
            "\n",
            "   MOIS_CONSO  ANNEE_CONSO DATE_CONSO_MOIS  VOLUME_MOIS  \n",
            "0           8         2022      2022-08-01     0.000000  \n",
            "1           8         2022      2022-08-01     0.000000  \n",
            "2           8         2022      2022-08-01     0.000000  \n",
            "3           1         2024      2024-01-01     0.000000  \n",
            "4           1         2024      2024-01-01    48.454092  \n",
            "\n",
            "📂 Aperçu des factures\n",
            "        CLE_ABONNEMENT                        CLE_FACTURE  \\\n",
            "0  GN_0782301010021705  GN|0782301010021705|23563|1|00000   \n",
            "1  GN_0742100100201901  GN|0742100100201901|24513|1|00000   \n",
            "2  GN_0742100100202001  GN|0742100100202001|23320|1|00000   \n",
            "3  GN_0742100100202001  GN|0742100100202001|24320|1|00000   \n",
            "4  GN_0742100100202604  GN|0742100100202604|24320|1|00000   \n",
            "\n",
            "  DATE_EMISSION_FACTURE  CONSO_FACTURE  \\\n",
            "0            2023-12-21            156   \n",
            "1            2024-03-29          38199   \n",
            "2            2023-05-03            359   \n",
            "3            2024-04-24            290   \n",
            "4            2024-04-24             89   \n",
            "\n",
            "  DATE_RELEVE_INDEX_PRECEDENT_FACTURE_COMPOSITE DATE_RELEVE_INDEX_FACTURE  \\\n",
            "0                                    2023-11-29                2023-11-30   \n",
            "1                                    2023-04-13                2024-03-13   \n",
            "2                                    2022-04-05                2023-04-03   \n",
            "3                                    2023-04-03                2024-04-09   \n",
            "4                                    2023-04-04                2024-03-21   \n",
            "\n",
            "   NB_FACTURES_PAR_PDS  NB_JOURS_CONNUS  NUM_FAC_PAR_PDS  \n",
            "0                    6                1                4  \n",
            "1                    1              335                1  \n",
            "2                    2              363                1  \n",
            "3                    2              372                2  \n",
            "4                    1              352                1  \n"
          ]
        }
      ],
      "source": [
        "import pandas as pd\n",
        "\n",
        "# Charger les trois fichiers CSV\n",
        "df_abonnements = pd.read_csv(\"veolia-data-abonnements.csv\")\n",
        "df_consommations = pd.read_csv(\"veolia-data-consos.csv\")\n",
        "df_factures = pd.read_csv(\"veolia-data-factures.csv\")\n",
        "\n",
        "# Afficher les premières lignes pour vérifier le chargement\n",
        "print(\"📂 Aperçu des abonnements\")\n",
        "print(df_abonnements.head())\n",
        "\n",
        "print(\"\\n📂 Aperçu des consommations\")\n",
        "print(df_consommations.head())\n",
        "\n",
        "print(\"\\n📂 Aperçu des factures\")\n",
        "print(df_factures.head())\n",
        "\n"
      ]
    },
    {
      "cell_type": "code",
      "execution_count": 4,
      "metadata": {
        "colab": {
          "base_uri": "https://localhost:8080/"
        },
        "id": "COq9bPtjAfSM",
        "outputId": "7fba8f63-c037-496d-d372-09a2dfe48a5d"
      },
      "outputs": [
        {
          "name": "stdout",
          "output_type": "stream",
          "text": [
            "\n",
            "🔍 Types de données\n",
            "Abonnements :\n",
            " CLE_ABONNEMENT                  object\n",
            "DATE_ENTREE_LOCAL_ABONNEMENT    object\n",
            "DATE_SOUSCRIPTION_ABONNEMENT    object\n",
            "DATE_RESILIATION_ABONNEMENT     object\n",
            "dtype: object\n",
            "\n",
            "Consommations :\n",
            " CLE_PDS                      object\n",
            "LIBELLE_REGION               object\n",
            "LIBELLE_TERRITOIRE           object\n",
            "CODE_CONTRAT                 object\n",
            "LIBELLE_CATEGORIE_ABONNE     object\n",
            "DIAMETRE_NOMINAL            float64\n",
            "TYPE_ABAQUE                  object\n",
            "MOIS_CONSO                    int64\n",
            "ANNEE_CONSO                   int64\n",
            "DATE_CONSO_MOIS              object\n",
            "VOLUME_MOIS                 float64\n",
            "dtype: object\n",
            "\n",
            "Factures :\n",
            " CLE_ABONNEMENT                                   object\n",
            "CLE_FACTURE                                      object\n",
            "DATE_EMISSION_FACTURE                            object\n",
            "CONSO_FACTURE                                     int64\n",
            "DATE_RELEVE_INDEX_PRECEDENT_FACTURE_COMPOSITE    object\n",
            "DATE_RELEVE_INDEX_FACTURE                        object\n",
            "NB_FACTURES_PAR_PDS                               int64\n",
            "NB_JOURS_CONNUS                                   int64\n",
            "NUM_FAC_PAR_PDS                                   int64\n",
            "dtype: object\n"
          ]
        }
      ],
      "source": [
        "print(\"\\n🔍 Types de données\")\n",
        "print(\"Abonnements :\\n\", df_abonnements.dtypes)\n",
        "print(\"\\nConsommations :\\n\", df_consommations.dtypes)\n",
        "print(\"\\nFactures :\\n\", df_factures.dtypes)\n"
      ]
    },
    {
      "cell_type": "code",
      "execution_count": 5,
      "metadata": {
        "colab": {
          "base_uri": "https://localhost:8080/"
        },
        "id": "_o3AQvZOVKgW",
        "outputId": "39e0fb1d-31f3-495a-808d-a8f8eda19b1c"
      },
      "outputs": [
        {
          "name": "stdout",
          "output_type": "stream",
          "text": [
            "CLE_ABONNEMENT                          object\n",
            "DATE_ENTREE_LOCAL_ABONNEMENT    datetime64[ns]\n",
            "DATE_SOUSCRIPTION_ABONNEMENT    datetime64[ns]\n",
            "DATE_RESILIATION_ABONNEMENT     datetime64[ns]\n",
            "dtype: object\n",
            "CLE_PDS                             object\n",
            "LIBELLE_REGION                      object\n",
            "LIBELLE_TERRITOIRE                  object\n",
            "CODE_CONTRAT                        object\n",
            "LIBELLE_CATEGORIE_ABONNE            object\n",
            "DIAMETRE_NOMINAL                   float64\n",
            "TYPE_ABAQUE                         object\n",
            "MOIS_CONSO                           int64\n",
            "ANNEE_CONSO                          int64\n",
            "DATE_CONSO_MOIS             datetime64[ns]\n",
            "VOLUME_MOIS                        float64\n",
            "dtype: object\n",
            "CLE_ABONNEMENT                                           object\n",
            "CLE_FACTURE                                              object\n",
            "DATE_EMISSION_FACTURE                            datetime64[ns]\n",
            "CONSO_FACTURE                                             int64\n",
            "DATE_RELEVE_INDEX_PRECEDENT_FACTURE_COMPOSITE    datetime64[ns]\n",
            "DATE_RELEVE_INDEX_FACTURE                        datetime64[ns]\n",
            "NB_FACTURES_PAR_PDS                                       int64\n",
            "NB_JOURS_CONNUS                                           int64\n",
            "NUM_FAC_PAR_PDS                                           int64\n",
            "dtype: object\n"
          ]
        }
      ],
      "source": [
        "# Importer Pandas\n",
        "import pandas as pd\n",
        "\n",
        "# Convertir les colonnes de date en datetime\n",
        "df_abonnements['DATE_ENTREE_LOCAL_ABONNEMENT'] = pd.to_datetime(df_abonnements['DATE_ENTREE_LOCAL_ABONNEMENT'], errors='coerce')\n",
        "df_abonnements['DATE_SOUSCRIPTION_ABONNEMENT'] = pd.to_datetime(df_abonnements['DATE_SOUSCRIPTION_ABONNEMENT'], errors='coerce')\n",
        "df_abonnements['DATE_RESILIATION_ABONNEMENT'] = pd.to_datetime(df_abonnements['DATE_RESILIATION_ABONNEMENT'], errors='coerce')\n",
        "\n",
        "df_consommations['DATE_CONSO_MOIS'] = pd.to_datetime(df_consommations['DATE_CONSO_MOIS'], errors='coerce')\n",
        "\n",
        "df_factures['DATE_EMISSION_FACTURE'] = pd.to_datetime(df_factures['DATE_EMISSION_FACTURE'], errors='coerce')\n",
        "df_factures['DATE_RELEVE_INDEX_PRECEDENT_FACTURE_COMPOSITE'] = pd.to_datetime(df_factures['DATE_RELEVE_INDEX_PRECEDENT_FACTURE_COMPOSITE'], errors='coerce')\n",
        "df_factures['DATE_RELEVE_INDEX_FACTURE'] = pd.to_datetime(df_factures['DATE_RELEVE_INDEX_FACTURE'], errors='coerce')\n",
        "\n",
        "# Vérifier la conversion\n",
        "print(df_abonnements.dtypes)\n",
        "print(df_consommations.dtypes)\n",
        "print(df_factures.dtypes)\n"
      ]
    },
    {
      "cell_type": "code",
      "execution_count": 6,
      "metadata": {
        "colab": {
          "base_uri": "https://localhost:8080/"
        },
        "id": "u2bBQkLIVUbd",
        "outputId": "f77a0a5b-2638-4327-b492-d3486eade376"
      },
      "outputs": [
        {
          "name": "stdout",
          "output_type": "stream",
          "text": [
            "\n",
            "🔍 Valeurs manquantes (%) :\n",
            "\n",
            "📂 Abonnements :\n",
            "CLE_ABONNEMENT                   0.000000\n",
            "DATE_ENTREE_LOCAL_ABONNEMENT    19.052854\n",
            "DATE_SOUSCRIPTION_ABONNEMENT    36.761099\n",
            "DATE_RESILIATION_ABONNEMENT     49.547569\n",
            "dtype: float64\n",
            "\n",
            "📂 Consommation :\n",
            "CLE_PDS                     0.000000\n",
            "LIBELLE_REGION              0.000000\n",
            "LIBELLE_TERRITOIRE          0.000000\n",
            "CODE_CONTRAT                0.000000\n",
            "LIBELLE_CATEGORIE_ABONNE    0.000000\n",
            "DIAMETRE_NOMINAL            0.307964\n",
            "TYPE_ABAQUE                 0.000000\n",
            "MOIS_CONSO                  0.000000\n",
            "ANNEE_CONSO                 0.000000\n",
            "DATE_CONSO_MOIS             0.000000\n",
            "VOLUME_MOIS                 0.000000\n",
            "dtype: float64\n",
            "\n",
            "📂 Factures :\n",
            "CLE_ABONNEMENT                                   0.0\n",
            "CLE_FACTURE                                      0.0\n",
            "DATE_EMISSION_FACTURE                            0.0\n",
            "CONSO_FACTURE                                    0.0\n",
            "DATE_RELEVE_INDEX_PRECEDENT_FACTURE_COMPOSITE    0.0\n",
            "DATE_RELEVE_INDEX_FACTURE                        0.0\n",
            "NB_FACTURES_PAR_PDS                              0.0\n",
            "NB_JOURS_CONNUS                                  0.0\n",
            "NUM_FAC_PAR_PDS                                  0.0\n",
            "dtype: float64\n"
          ]
        }
      ],
      "source": [
        "print(\"\\n🔍 Valeurs manquantes (%) :\")\n",
        "\n",
        "print(\"\\n📂 Abonnements :\")\n",
        "print(df_abonnements.isna().mean() * 100)\n",
        "\n",
        "print(\"\\n📂 Consommation :\")\n",
        "print(df_consommations.isna().mean() * 100)\n",
        "\n",
        "print(\"\\n📂 Factures :\")\n",
        "print(df_factures.isna().mean() * 100)"
      ]
    },
    {
      "cell_type": "markdown",
      "metadata": {},
      "source": [
        "Anomalies sur les abonnements"
      ]
    },
    {
      "cell_type": "code",
      "execution_count": 9,
      "metadata": {
        "colab": {
          "base_uri": "https://localhost:8080/"
        },
        "id": "RfrRjOEnV2lZ",
        "outputId": "c071b777-ed5e-43dc-e167-69bff161df49"
      },
      "outputs": [
        {
          "name": "stdout",
          "output_type": "stream",
          "text": [
            "\n",
            "🔍 Nombre d'anomalies de résiliation : 6\n",
            "Exemple d'anomalie de résiliation :         CLE_ABONNEMENT DATE_ENTREE_LOCAL_ABONNEMENT  \\\n",
            "6  GN_1180180100013606                   2007-06-01   \n",
            "\n",
            "  DATE_SOUSCRIPTION_ABONNEMENT DATE_RESILIATION_ABONNEMENT  \n",
            "6                   2007-09-25                  2007-07-01  \n"
          ]
        }
      ],
      "source": [
        "anomalies_resiliation = df_abonnements[df_abonnements['DATE_RESILIATION_ABONNEMENT'] < df_abonnements['DATE_SOUSCRIPTION_ABONNEMENT']]\n",
        "print(f\"\\n🔍 Nombre d'anomalies de résiliation : {len(anomalies_resiliation)}\")\n"
      ]
    },
    {
      "cell_type": "code",
      "execution_count": 12,
      "metadata": {},
      "outputs": [
        {
          "name": "stdout",
          "output_type": "stream",
          "text": [
            "Exemple d'anomalie de résiliation :           CLE_ABONNEMENT DATE_ENTREE_LOCAL_ABONNEMENT  \\\n",
            "6    GN_1180180100013606                   2007-06-01   \n",
            "844  GN_1180180104013401                   2009-02-24   \n",
            "972  GN_1180280200598603                   2008-01-01   \n",
            "\n",
            "    DATE_SOUSCRIPTION_ABONNEMENT DATE_RESILIATION_ABONNEMENT  \n",
            "6                     2007-09-25                  2007-07-01  \n",
            "844                   2009-04-03                  2009-04-01  \n",
            "972                   2008-02-27                  2008-01-16  \n"
          ]
        }
      ],
      "source": [
        "print(\"Exemple d'anomalie de résiliation :\", anomalies_resiliation.head(3))"
      ]
    },
    {
      "cell_type": "markdown",
      "metadata": {},
      "source": [
        "Anomalies sur les consommations"
      ]
    },
    {
      "cell_type": "code",
      "execution_count": 22,
      "metadata": {
        "colab": {
          "base_uri": "https://localhost:8080/"
        },
        "id": "18yQHj3VV8QX",
        "outputId": "892b87f7-2472-494b-92f5-79c3ee97cd43"
      },
      "outputs": [
        {
          "name": "stdout",
          "output_type": "stream",
          "text": [
            "\n",
            "🔍 Nombre d'anomalies de consommation : 6\n"
          ]
        }
      ],
      "source": [
        "conso_aberrante = df_consommations[(df_consommations['VOLUME_MOIS'] < 0) | (df_consommations['VOLUME_MOIS'] > 20000)]\n",
        "print(f\"\\n🔍 Nombre d'anomalies de consommation : {len(conso_aberrante)}\")"
      ]
    },
    {
      "cell_type": "code",
      "execution_count": 24,
      "metadata": {},
      "outputs": [
        {
          "data": {
            "text/html": [
              "<div>\n",
              "<style scoped>\n",
              "    .dataframe tbody tr th:only-of-type {\n",
              "        vertical-align: middle;\n",
              "    }\n",
              "\n",
              "    .dataframe tbody tr th {\n",
              "        vertical-align: top;\n",
              "    }\n",
              "\n",
              "    .dataframe thead th {\n",
              "        text-align: right;\n",
              "    }\n",
              "</style>\n",
              "<table border=\"1\" class=\"dataframe\">\n",
              "  <thead>\n",
              "    <tr style=\"text-align: right;\">\n",
              "      <th></th>\n",
              "      <th>CLE_PDS</th>\n",
              "      <th>LIBELLE_REGION</th>\n",
              "      <th>LIBELLE_TERRITOIRE</th>\n",
              "      <th>CODE_CONTRAT</th>\n",
              "      <th>LIBELLE_CATEGORIE_ABONNE</th>\n",
              "      <th>DIAMETRE_NOMINAL</th>\n",
              "      <th>TYPE_ABAQUE</th>\n",
              "      <th>MOIS_CONSO</th>\n",
              "      <th>ANNEE_CONSO</th>\n",
              "      <th>DATE_CONSO_MOIS</th>\n",
              "      <th>VOLUME_MOIS</th>\n",
              "    </tr>\n",
              "  </thead>\n",
              "  <tbody>\n",
              "    <tr>\n",
              "      <th>0</th>\n",
              "      <td>GN|07744010200392</td>\n",
              "      <td>Ile de France</td>\n",
              "      <td>Seine et Marne</td>\n",
              "      <td>E4660</td>\n",
              "      <td>PROFESSIONNELS</td>\n",
              "      <td>0.0</td>\n",
              "      <td>INACTIF</td>\n",
              "      <td>8</td>\n",
              "      <td>2022</td>\n",
              "      <td>2022-08-01</td>\n",
              "      <td>0.000000</td>\n",
              "    </tr>\n",
              "    <tr>\n",
              "      <th>1</th>\n",
              "      <td>GN|07744010201832</td>\n",
              "      <td>Ile de France</td>\n",
              "      <td>Seine et Marne</td>\n",
              "      <td>E4660</td>\n",
              "      <td>PROFESSIONNELS</td>\n",
              "      <td>15.0</td>\n",
              "      <td>INACTIF</td>\n",
              "      <td>8</td>\n",
              "      <td>2022</td>\n",
              "      <td>2022-08-01</td>\n",
              "      <td>0.000000</td>\n",
              "    </tr>\n",
              "    <tr>\n",
              "      <th>2</th>\n",
              "      <td>GN|07421002002279</td>\n",
              "      <td>Ile de France</td>\n",
              "      <td>Seine et Marne</td>\n",
              "      <td>E4660</td>\n",
              "      <td>PROFESSIONNELS</td>\n",
              "      <td>15.0</td>\n",
              "      <td>INACTIF</td>\n",
              "      <td>8</td>\n",
              "      <td>2022</td>\n",
              "      <td>2022-08-01</td>\n",
              "      <td>0.000000</td>\n",
              "    </tr>\n",
              "    <tr>\n",
              "      <th>3</th>\n",
              "      <td>GN|07421002002647</td>\n",
              "      <td>Ile de France</td>\n",
              "      <td>Seine et Marne</td>\n",
              "      <td>E4660</td>\n",
              "      <td>APPAREILS PUBLICS COMMUNAUX</td>\n",
              "      <td>20.0</td>\n",
              "      <td>ABAQUE_ML_INTERPO</td>\n",
              "      <td>1</td>\n",
              "      <td>2024</td>\n",
              "      <td>2024-01-01</td>\n",
              "      <td>0.000000</td>\n",
              "    </tr>\n",
              "    <tr>\n",
              "      <th>4</th>\n",
              "      <td>GN|07421001002741</td>\n",
              "      <td>Ile de France</td>\n",
              "      <td>Seine et Marne</td>\n",
              "      <td>E4660</td>\n",
              "      <td>BATIMENTS COLLECTIFS PUBLICS</td>\n",
              "      <td>40.0</td>\n",
              "      <td>ABAQUE_ML_INTERPO</td>\n",
              "      <td>1</td>\n",
              "      <td>2024</td>\n",
              "      <td>2024-01-01</td>\n",
              "      <td>48.454092</td>\n",
              "    </tr>\n",
              "    <tr>\n",
              "      <th>...</th>\n",
              "      <td>...</td>\n",
              "      <td>...</td>\n",
              "      <td>...</td>\n",
              "      <td>...</td>\n",
              "      <td>...</td>\n",
              "      <td>...</td>\n",
              "      <td>...</td>\n",
              "      <td>...</td>\n",
              "      <td>...</td>\n",
              "      <td>...</td>\n",
              "      <td>...</td>\n",
              "    </tr>\n",
              "    <tr>\n",
              "      <th>246452</th>\n",
              "      <td>GN|11818818998002</td>\n",
              "      <td>Hauts de France</td>\n",
              "      <td>Littoral Audomarois</td>\n",
              "      <td>YU001</td>\n",
              "      <td>INDUSTRIELS</td>\n",
              "      <td>NaN</td>\n",
              "      <td>ABAQUE_REGION_INTERPO</td>\n",
              "      <td>9</td>\n",
              "      <td>2024</td>\n",
              "      <td>2024-09-01</td>\n",
              "      <td>0.000000</td>\n",
              "    </tr>\n",
              "    <tr>\n",
              "      <th>246453</th>\n",
              "      <td>GN|11841841006073</td>\n",
              "      <td>Hauts de France</td>\n",
              "      <td>Littoral Audomarois</td>\n",
              "      <td>YU001</td>\n",
              "      <td>BATIMENTS COLLECTIFS PRIVES</td>\n",
              "      <td>15.0</td>\n",
              "      <td>ABAQUE_ML_INTERPO</td>\n",
              "      <td>9</td>\n",
              "      <td>2024</td>\n",
              "      <td>2024-09-01</td>\n",
              "      <td>2.099843</td>\n",
              "    </tr>\n",
              "    <tr>\n",
              "      <th>246454</th>\n",
              "      <td>GN|11801801043991</td>\n",
              "      <td>Hauts de France</td>\n",
              "      <td>Littoral Audomarois</td>\n",
              "      <td>YU001</td>\n",
              "      <td>BATIMENTS COLLECTIFS PRIVES</td>\n",
              "      <td>15.0</td>\n",
              "      <td>ABAQUE_ML_INTERPO</td>\n",
              "      <td>9</td>\n",
              "      <td>2024</td>\n",
              "      <td>2024-09-01</td>\n",
              "      <td>7.259611</td>\n",
              "    </tr>\n",
              "    <tr>\n",
              "      <th>246455</th>\n",
              "      <td>GN|11804804009418</td>\n",
              "      <td>Hauts de France</td>\n",
              "      <td>Littoral Audomarois</td>\n",
              "      <td>YU001</td>\n",
              "      <td>BATIMENTS COLLECTIFS PRIVES</td>\n",
              "      <td>20.0</td>\n",
              "      <td>ABAQUE_ML_EXTRAPO</td>\n",
              "      <td>9</td>\n",
              "      <td>2024</td>\n",
              "      <td>2024-09-01</td>\n",
              "      <td>0.000000</td>\n",
              "    </tr>\n",
              "    <tr>\n",
              "      <th>246456</th>\n",
              "      <td>GN|11801801036314</td>\n",
              "      <td>Hauts de France</td>\n",
              "      <td>Littoral Audomarois</td>\n",
              "      <td>YU001</td>\n",
              "      <td>BATIMENTS COLLECTIFS PRIVES</td>\n",
              "      <td>20.0</td>\n",
              "      <td>ABAQUE_TR_EXTRAPO</td>\n",
              "      <td>9</td>\n",
              "      <td>2024</td>\n",
              "      <td>2024-09-01</td>\n",
              "      <td>11.487000</td>\n",
              "    </tr>\n",
              "  </tbody>\n",
              "</table>\n",
              "<p>246457 rows × 11 columns</p>\n",
              "</div>"
            ],
            "text/plain": [
              "                  CLE_PDS   LIBELLE_REGION   LIBELLE_TERRITOIRE CODE_CONTRAT  \\\n",
              "0       GN|07744010200392    Ile de France       Seine et Marne        E4660   \n",
              "1       GN|07744010201832    Ile de France       Seine et Marne        E4660   \n",
              "2       GN|07421002002279    Ile de France       Seine et Marne        E4660   \n",
              "3       GN|07421002002647    Ile de France       Seine et Marne        E4660   \n",
              "4       GN|07421001002741    Ile de France       Seine et Marne        E4660   \n",
              "...                   ...              ...                  ...          ...   \n",
              "246452  GN|11818818998002  Hauts de France  Littoral Audomarois        YU001   \n",
              "246453  GN|11841841006073  Hauts de France  Littoral Audomarois        YU001   \n",
              "246454  GN|11801801043991  Hauts de France  Littoral Audomarois        YU001   \n",
              "246455  GN|11804804009418  Hauts de France  Littoral Audomarois        YU001   \n",
              "246456  GN|11801801036314  Hauts de France  Littoral Audomarois        YU001   \n",
              "\n",
              "            LIBELLE_CATEGORIE_ABONNE  DIAMETRE_NOMINAL            TYPE_ABAQUE  \\\n",
              "0                     PROFESSIONNELS               0.0                INACTIF   \n",
              "1                     PROFESSIONNELS              15.0                INACTIF   \n",
              "2                     PROFESSIONNELS              15.0                INACTIF   \n",
              "3        APPAREILS PUBLICS COMMUNAUX              20.0      ABAQUE_ML_INTERPO   \n",
              "4       BATIMENTS COLLECTIFS PUBLICS              40.0      ABAQUE_ML_INTERPO   \n",
              "...                              ...               ...                    ...   \n",
              "246452                   INDUSTRIELS               NaN  ABAQUE_REGION_INTERPO   \n",
              "246453   BATIMENTS COLLECTIFS PRIVES              15.0      ABAQUE_ML_INTERPO   \n",
              "246454   BATIMENTS COLLECTIFS PRIVES              15.0      ABAQUE_ML_INTERPO   \n",
              "246455   BATIMENTS COLLECTIFS PRIVES              20.0      ABAQUE_ML_EXTRAPO   \n",
              "246456   BATIMENTS COLLECTIFS PRIVES              20.0      ABAQUE_TR_EXTRAPO   \n",
              "\n",
              "        MOIS_CONSO  ANNEE_CONSO DATE_CONSO_MOIS  VOLUME_MOIS  \n",
              "0                8         2022      2022-08-01     0.000000  \n",
              "1                8         2022      2022-08-01     0.000000  \n",
              "2                8         2022      2022-08-01     0.000000  \n",
              "3                1         2024      2024-01-01     0.000000  \n",
              "4                1         2024      2024-01-01    48.454092  \n",
              "...            ...          ...             ...          ...  \n",
              "246452           9         2024      2024-09-01     0.000000  \n",
              "246453           9         2024      2024-09-01     2.099843  \n",
              "246454           9         2024      2024-09-01     7.259611  \n",
              "246455           9         2024      2024-09-01     0.000000  \n",
              "246456           9         2024      2024-09-01    11.487000  \n",
              "\n",
              "[246457 rows x 11 columns]"
            ]
          },
          "execution_count": 24,
          "metadata": {},
          "output_type": "execute_result"
        }
      ],
      "source": [
        "df_consommations"
      ]
    },
    {
      "cell_type": "code",
      "execution_count": 15,
      "metadata": {},
      "outputs": [
        {
          "data": {
            "text/html": [
              "<div>\n",
              "<style scoped>\n",
              "    .dataframe tbody tr th:only-of-type {\n",
              "        vertical-align: middle;\n",
              "    }\n",
              "\n",
              "    .dataframe tbody tr th {\n",
              "        vertical-align: top;\n",
              "    }\n",
              "\n",
              "    .dataframe thead th {\n",
              "        text-align: right;\n",
              "    }\n",
              "</style>\n",
              "<table border=\"1\" class=\"dataframe\">\n",
              "  <thead>\n",
              "    <tr style=\"text-align: right;\">\n",
              "      <th></th>\n",
              "      <th>DIAMETRE_NOMINAL</th>\n",
              "      <th>MOIS_CONSO</th>\n",
              "      <th>ANNEE_CONSO</th>\n",
              "      <th>DATE_CONSO_MOIS</th>\n",
              "      <th>VOLUME_MOIS</th>\n",
              "    </tr>\n",
              "  </thead>\n",
              "  <tbody>\n",
              "    <tr>\n",
              "      <th>count</th>\n",
              "      <td>245698.000000</td>\n",
              "      <td>246457.000000</td>\n",
              "      <td>246457.000000</td>\n",
              "      <td>246457</td>\n",
              "      <td>246457.000000</td>\n",
              "    </tr>\n",
              "    <tr>\n",
              "      <th>mean</th>\n",
              "      <td>20.651959</td>\n",
              "      <td>6.456035</td>\n",
              "      <td>2023.013349</td>\n",
              "      <td>2023-06-20 07:22:32.390072320</td>\n",
              "      <td>32.915860</td>\n",
              "    </tr>\n",
              "    <tr>\n",
              "      <th>min</th>\n",
              "      <td>0.000000</td>\n",
              "      <td>1.000000</td>\n",
              "      <td>2022.000000</td>\n",
              "      <td>2022-01-01 00:00:00</td>\n",
              "      <td>-327.460450</td>\n",
              "    </tr>\n",
              "    <tr>\n",
              "      <th>25%</th>\n",
              "      <td>15.000000</td>\n",
              "      <td>3.000000</td>\n",
              "      <td>2022.000000</td>\n",
              "      <td>2022-10-01 00:00:00</td>\n",
              "      <td>0.000000</td>\n",
              "    </tr>\n",
              "    <tr>\n",
              "      <th>50%</th>\n",
              "      <td>15.000000</td>\n",
              "      <td>6.000000</td>\n",
              "      <td>2023.000000</td>\n",
              "      <td>2023-07-01 00:00:00</td>\n",
              "      <td>1.619015</td>\n",
              "    </tr>\n",
              "    <tr>\n",
              "      <th>75%</th>\n",
              "      <td>30.000000</td>\n",
              "      <td>9.000000</td>\n",
              "      <td>2024.000000</td>\n",
              "      <td>2024-03-01 00:00:00</td>\n",
              "      <td>11.458295</td>\n",
              "    </tr>\n",
              "    <tr>\n",
              "      <th>max</th>\n",
              "      <td>200.000000</td>\n",
              "      <td>12.000000</td>\n",
              "      <td>2024.000000</td>\n",
              "      <td>2024-12-01 00:00:00</td>\n",
              "      <td>31177.938703</td>\n",
              "    </tr>\n",
              "    <tr>\n",
              "      <th>std</th>\n",
              "      <td>16.449699</td>\n",
              "      <td>3.448261</td>\n",
              "      <td>0.807005</td>\n",
              "      <td>NaN</td>\n",
              "      <td>290.083805</td>\n",
              "    </tr>\n",
              "  </tbody>\n",
              "</table>\n",
              "</div>"
            ],
            "text/plain": [
              "       DIAMETRE_NOMINAL     MOIS_CONSO    ANNEE_CONSO  \\\n",
              "count     245698.000000  246457.000000  246457.000000   \n",
              "mean          20.651959       6.456035    2023.013349   \n",
              "min            0.000000       1.000000    2022.000000   \n",
              "25%           15.000000       3.000000    2022.000000   \n",
              "50%           15.000000       6.000000    2023.000000   \n",
              "75%           30.000000       9.000000    2024.000000   \n",
              "max          200.000000      12.000000    2024.000000   \n",
              "std           16.449699       3.448261       0.807005   \n",
              "\n",
              "                     DATE_CONSO_MOIS    VOLUME_MOIS  \n",
              "count                         246457  246457.000000  \n",
              "mean   2023-06-20 07:22:32.390072320      32.915860  \n",
              "min              2022-01-01 00:00:00    -327.460450  \n",
              "25%              2022-10-01 00:00:00       0.000000  \n",
              "50%              2023-07-01 00:00:00       1.619015  \n",
              "75%              2024-03-01 00:00:00      11.458295  \n",
              "max              2024-12-01 00:00:00   31177.938703  \n",
              "std                              NaN     290.083805  "
            ]
          },
          "execution_count": 15,
          "metadata": {},
          "output_type": "execute_result"
        }
      ],
      "source": [
        "df_consommations.describe()"
      ]
    },
    {
      "cell_type": "code",
      "execution_count": 27,
      "metadata": {},
      "outputs": [
        {
          "name": "stderr",
          "output_type": "stream",
          "text": [
            "C:\\Users\\markz\\AppData\\Local\\Temp\\ipykernel_20756\\1966719016.py:14: SettingWithCopyWarning: \n",
            "A value is trying to be set on a copy of a slice from a DataFrame.\n",
            "Try using .loc[row_indexer,col_indexer] = value instead\n",
            "\n",
            "See the caveats in the documentation: https://pandas.pydata.org/pandas-docs/stable/user_guide/indexing.html#returning-a-view-versus-a-copy\n",
            "  df_consommations[\"anomaly_score\"] = isolation_forest.fit_predict(X)\n"
          ]
        }
      ],
      "source": [
        "from sklearn.ensemble import IsolationForest\n",
        "\n",
        "# Convertir la colonne DATE_CONSO_MOIS en timestamp\n",
        "df_consommations[\"DATE_CONSO_MOIS_TIMESTAMP\"] = df_consommations[\"DATE_CONSO_MOIS\"].astype('int64') // 10**9\n",
        "\n",
        "# Gérer les valeurs NaN en supprimant les lignes contenant des NaN\n",
        "df_consommations = df_consommations.dropna(subset=[\"DIAMETRE_NOMINAL\", \"MOIS_CONSO\", \"ANNEE_CONSO\", \"DATE_CONSO_MOIS_TIMESTAMP\", \"VOLUME_MOIS\"])\n",
        "\n",
        "# Définir les colonnes X pour les consommations\n",
        "X = df_consommations[[\"DIAMETRE_NOMINAL\", \"MOIS_CONSO\", \"ANNEE_CONSO\", \"DATE_CONSO_MOIS_TIMESTAMP\", \"VOLUME_MOIS\"]]\n",
        "\n",
        "# Utiliser IsolationForest pour prédire les anomalies\n",
        "isolation_forest = IsolationForest(contamination=0.01)\n",
        "df_consommations[\"anomaly_score\"] = isolation_forest.fit_predict(X)"
      ]
    },
    {
      "cell_type": "code",
      "execution_count": 28,
      "metadata": {},
      "outputs": [
        {
          "name": "stderr",
          "output_type": "stream",
          "text": [
            "C:\\Users\\markz\\AppData\\Local\\Temp\\ipykernel_20756\\137928644.py:6: SettingWithCopyWarning: \n",
            "A value is trying to be set on a copy of a slice from a DataFrame.\n",
            "Try using .loc[row_indexer,col_indexer] = value instead\n",
            "\n",
            "See the caveats in the documentation: https://pandas.pydata.org/pandas-docs/stable/user_guide/indexing.html#returning-a-view-versus-a-copy\n",
            "  df_consommations[\"DATE_CONSO_MOIS_TIMESTAMP\"] = df_consommations[\"DATE_CONSO_MOIS\"].astype('int64') // 10**9\n"
          ]
        },
        {
          "name": "stdout",
          "output_type": "stream",
          "text": [
            "Nombre d'anomalies détectées: 2457\n",
            "               CLE_PDS   LIBELLE_REGION   LIBELLE_TERRITOIRE CODE_CONTRAT  \\\n",
            "110  GN|11803803004575  Hauts de France  Littoral Audomarois        YU001   \n",
            "118  GN|11811811000127  Hauts de France  Littoral Audomarois        YU001   \n",
            "137  GN|11801801044848  Hauts de France  Littoral Audomarois        YU001   \n",
            "171  GN|11801801037205  Hauts de France  Littoral Audomarois        YU001   \n",
            "262  GN|11803803009246  Hauts de France  Littoral Audomarois        YU001   \n",
            "\n",
            "         LIBELLE_CATEGORIE_ABONNE  DIAMETRE_NOMINAL        TYPE_ABAQUE  \\\n",
            "110  BATIMENTS COLLECTIFS PUBLICS             100.0  ABAQUE_ML_INTERPO   \n",
            "118                   INDUSTRIELS             100.0  ABAQUE_ML_INTERPO   \n",
            "137                PROFESSIONNELS              60.0  ABAQUE_ML_INTERPO   \n",
            "171  BATIMENTS COLLECTIFS PUBLICS              80.0  ABAQUE_TR_INTERPO   \n",
            "262                PROFESSIONNELS              80.0  ABAQUE_TR_INTERPO   \n",
            "\n",
            "     MOIS_CONSO  ANNEE_CONSO DATE_CONSO_MOIS  VOLUME_MOIS  \\\n",
            "110           8         2022      2022-08-01   145.949164   \n",
            "118           8         2022      2022-08-01   247.603922   \n",
            "137           8         2022      2022-08-01  2259.245980   \n",
            "171           1         2024      2024-01-01   215.280546   \n",
            "262           5         2023      2023-05-01   528.357417   \n",
            "\n",
            "     DATE_CONSO_MOIS_TIMESTAMP  anomaly_score  \n",
            "110                 1659312000             -1  \n",
            "118                 1659312000             -1  \n",
            "137                 1659312000             -1  \n",
            "171                 1704067200             -1  \n",
            "262                 1682899200             -1  \n",
            "Anomalies les plus sévères:\n",
            "                  CLE_PDS   LIBELLE_REGION   LIBELLE_TERRITOIRE CODE_CONTRAT  \\\n",
            "216270  GN|11803803012736  Hauts de France  Littoral Audomarois        YU001   \n",
            "86842   GN|07744010201658    Ile de France       Seine et Marne        E4660   \n",
            "102773  GN|11803803012736  Hauts de France  Littoral Audomarois        YU001   \n",
            "6906    GN|11803803012736  Hauts de France  Littoral Audomarois        YU001   \n",
            "125480  GN|07744010201658    Ile de France       Seine et Marne        E4660   \n",
            "4488    GN|11801801030954  Hauts de France  Littoral Audomarois        YU001   \n",
            "106349  GN|11818818001690  Hauts de France  Littoral Audomarois        YU001   \n",
            "36895   GN|11808808002822  Hauts de France  Littoral Audomarois        YU001   \n",
            "59098   GN|11818818001690  Hauts de France  Littoral Audomarois        YU001   \n",
            "32992   GN|11801801030954  Hauts de France  Littoral Audomarois        YU001   \n",
            "\n",
            "            LIBELLE_CATEGORIE_ABONNE  DIAMETRE_NOMINAL        TYPE_ABAQUE  \\\n",
            "216270                   INDUSTRIELS             100.0  ABAQUE_TR_INTERPO   \n",
            "86842                 PROFESSIONNELS             100.0  ABAQUE_ML_EXTRAPO   \n",
            "102773                   INDUSTRIELS             100.0  ABAQUE_TR_EXTRAPO   \n",
            "6906                     INDUSTRIELS             100.0  ABAQUE_TR_EXTRAPO   \n",
            "125480                PROFESSIONNELS             100.0  ABAQUE_ML_EXTRAPO   \n",
            "4488    BATIMENTS COLLECTIFS PUBLICS             100.0  ABAQUE_TR_INTERPO   \n",
            "106349                   INDUSTRIELS             100.0  ABAQUE_TR_INTERPO   \n",
            "36895                    INDUSTRIELS             100.0  ABAQUE_ML_INTERPO   \n",
            "59098                    INDUSTRIELS             100.0  ABAQUE_TR_EXTRAPO   \n",
            "32992   BATIMENTS COLLECTIFS PUBLICS             100.0  ABAQUE_TR_EXTRAPO   \n",
            "\n",
            "        MOIS_CONSO  ANNEE_CONSO DATE_CONSO_MOIS   VOLUME_MOIS  \\\n",
            "216270           1         2024      2024-01-01   9699.660904   \n",
            "86842           12         2024      2024-12-01  11149.702097   \n",
            "102773          12         2024      2024-12-01  10565.450000   \n",
            "6906             1         2022      2022-01-01   9472.410000   \n",
            "125480           1         2022      2022-01-01  10849.750754   \n",
            "4488             1         2024      2024-01-01   5042.629421   \n",
            "106349           1         2024      2024-01-01   5817.971818   \n",
            "36895            1         2024      2024-01-01   4350.055416   \n",
            "59098            1         2022      2022-01-01   5769.560000   \n",
            "32992            1         2022      2022-01-01   5065.500000   \n",
            "\n",
            "        DATE_CONSO_MOIS_TIMESTAMP  anomaly_score  anomaly_score_value  \n",
            "216270                 1704067200             -1            -0.112876  \n",
            "86842                  1733011200             -1            -0.111469  \n",
            "102773                 1733011200             -1            -0.111469  \n",
            "6906                   1640995200             -1            -0.111469  \n",
            "125480                 1640995200             -1            -0.111469  \n",
            "4488                   1704067200             -1            -0.111283  \n",
            "106349                 1704067200             -1            -0.111283  \n",
            "36895                  1704067200             -1            -0.110753  \n",
            "59098                  1640995200             -1            -0.110408  \n",
            "32992                  1640995200             -1            -0.110408  \n"
          ]
        }
      ],
      "source": [
        "from sklearn.ensemble import IsolationForest\n",
        "from sklearn.metrics import classification_report\n",
        "import numpy as np\n",
        "\n",
        "# Convertir la colonne DATE_CONSO_MOIS en timestamp\n",
        "df_consommations[\"DATE_CONSO_MOIS_TIMESTAMP\"] = df_consommations[\"DATE_CONSO_MOIS\"].astype('int64') // 10**9\n",
        "\n",
        "# Gérer les valeurs NaN en supprimant les lignes contenant des NaN\n",
        "df_consommations = df_consommations.dropna(subset=[\"DIAMETRE_NOMINAL\", \"MOIS_CONSO\", \"ANNEE_CONSO\", \"DATE_CONSO_MOIS_TIMESTAMP\", \"VOLUME_MOIS\"])\n",
        "\n",
        "# Définir les colonnes X pour les consommations\n",
        "X = df_consommations[[\"DIAMETRE_NOMINAL\", \"MOIS_CONSO\", \"ANNEE_CONSO\", \"DATE_CONSO_MOIS_TIMESTAMP\", \"VOLUME_MOIS\"]]\n",
        "\n",
        "# Utiliser IsolationForest pour prédire les anomalies\n",
        "isolation_forest = IsolationForest(contamination=0.01)\n",
        "df_consommations[\"anomaly_score\"] = isolation_forest.fit_predict(X)\n",
        "\n",
        "# Afficher les métriques si vous avez des étiquettes de vérité terrain\n",
        "# Supposons que vous avez une colonne 'true_label' avec 1 pour les anomalies et 0 pour les normales\n",
        "if 'true_label' in df_consommations.columns:\n",
        "    print(classification_report(df_consommations['true_label'], df_consommations['anomaly_score']))\n",
        "\n",
        "# Afficher les anomalies détectées\n",
        "anomalies = df_consommations[df_consommations[\"anomaly_score\"] == -1]\n",
        "print(\"Nombre d'anomalies détectées:\", len(anomalies))\n",
        "print(anomalies.head())\n",
        "\n",
        "# Afficher les anomalies les plus sévères (si vous avez des scores d'anomalie)\n",
        "df_consommations[\"anomaly_score_value\"] = isolation_forest.decision_function(X)\n",
        "severe_anomalies = df_consommations.sort_values(by=\"anomaly_score_value\").head(10)\n",
        "print(\"Anomalies les plus sévères:\")\n",
        "print(severe_anomalies)"
      ]
    },
    {
      "cell_type": "code",
      "execution_count": 30,
      "metadata": {},
      "outputs": [
        {
          "name": "stdout",
          "output_type": "stream",
          "text": [
            "Colonnes disponibles dans df_abonnements: Index(['CLE_ABONNEMENT', 'DATE_ENTREE_LOCAL_ABONNEMENT',\n",
            "       'DATE_SOUSCRIPTION_ABONNEMENT', 'DATE_RESILIATION_ABONNEMENT',\n",
            "       'anomaly_resiliation'],\n",
            "      dtype='object')\n",
            "Aucune des colonnes spécifiées n'est disponible dans df_abonnements.\n"
          ]
        }
      ],
      "source": [
        "from sklearn.ensemble import IsolationForest\n",
        "from sklearn.metrics import classification_report, confusion_matrix\n",
        "import numpy as np\n",
        "\n",
        "# Convertir la colonne DATE_CONSO_MOIS en timestamp\n",
        "df_consommations[\"DATE_CONSO_MOIS_TIMESTAMP\"] = df_consommations[\"DATE_CONSO_MOIS\"].astype('int64') // 10**9\n",
        "\n",
        "# Gérer les valeurs NaN en supprimant les lignes contenant des NaN\n",
        "df_consommations = df_consommations.dropna(subset=[\"DIAMETRE_NOMINAL\", \"MOIS_CONSO\", \"ANNEE_CONSO\", \"DATE_CONSO_MOIS_TIMESTAMP\", \"VOLUME_MOIS\"])\n",
        "\n",
        "# Définir les colonnes X pour les consommations\n",
        "X = df_consommations[[\"DIAMETRE_NOMINAL\", \"MOIS_CONSO\", \"ANNEE_CONSO\", \"DATE_CONSO_MOIS_TIMESTAMP\", \"VOLUME_MOIS\"]]\n",
        "\n",
        "# Utiliser IsolationForest pour prédire les anomalies\n",
        "isolation_forest = IsolationForest(contamination=0.01)\n",
        "df_consommations[\"anomaly_score\"] = isolation_forest.fit_predict(X)\n",
        "\n",
        "# Vérifier les colonnes disponibles dans df_abonnements\n",
        "print(\"Colonnes disponibles dans df_abonnements:\", df_abonnements.columns)\n",
        "\n",
        "# Détection des anomalies dans les abonnements\n",
        "df_abonnements['anomaly_resiliation'] = df_abonnements.apply(\n",
        "    lambda row: True if row['DATE_RESILIATION_ABONNEMENT'] < row['DATE_SOUSCRIPTION_ABONNEMENT'] else False, axis=1\n",
        ")\n",
        "\n",
        "# Utiliser les colonnes disponibles pour l'entraînement du modèle\n",
        "# Assurez-vous que les colonnes existent dans df_abonnements\n",
        "columns_to_use = [\"DIAMETRE_NOMINAL\", \"MOIS_CONSO\", \"ANNEE_CONSO\", \"DATE_CONSO_MOIS_TIMESTAMP\", \"VOLUME_MOIS\"]\n",
        "columns_to_use = [col for col in columns_to_use if col in df_abonnements.columns]\n",
        "\n",
        "# Vérifiez que les colonnes existent avant de les utiliser\n",
        "if columns_to_use:\n",
        "    df_abonnements[\"anomaly_score\"] = isolation_forest.fit_predict(df_abonnements[columns_to_use])\n",
        "\n",
        "    # Convertir les scores d'anomalie en booléens (True pour anomalies, False pour normales)\n",
        "    df_abonnements[\"anomaly_detected\"] = df_abonnements[\"anomaly_score\"] == -1\n",
        "\n",
        "    # Calculer les métriques d'évaluation\n",
        "    true_labels = df_abonnements[\"anomaly_resiliation\"]\n",
        "    predicted_labels = df_abonnements[\"anomaly_detected\"]\n",
        "\n",
        "    print(\"Classification Report:\")\n",
        "    print(classification_report(true_labels, predicted_labels))\n",
        "\n",
        "    print(\"Confusion Matrix:\")\n",
        "    print(confusion_matrix(true_labels, predicted_labels))\n",
        "\n",
        "    # Afficher les anomalies détectées\n",
        "    anomalies_detected = df_abonnements[df_abonnements[\"anomaly_detected\"] == True]\n",
        "    print(\"Anomalies détectées:\")\n",
        "    print(anomalies_detected.head())\n",
        "\n",
        "    # Afficher les vraies anomalies non détectées\n",
        "    true_anomalies = df_abonnements[df_abonnements[\"anomaly_resiliation\"] == True]\n",
        "    missed_anomalies = true_anomalies[true_anomalies[\"anomaly_detected\"] == False]\n",
        "    print(\"Vraies anomalies non détectées:\")\n",
        "    print(missed_anomalies)\n",
        "else:\n",
        "    print(\"Aucune des colonnes spécifiées n'est disponible dans df_abonnements.\")"
      ]
    },
    {
      "cell_type": "code",
      "execution_count": null,
      "metadata": {
        "colab": {
          "base_uri": "https://localhost:8080/"
        },
        "id": "KH-M1isXWBgM",
        "outputId": "658c0aca-66b8-4138-9a1e-54045b802850"
      },
      "outputs": [
        {
          "name": "stdout",
          "output_type": "stream",
          "text": [
            "\n",
            "🔍 Comparaison consommation vs facturation :\n",
            "Empty DataFrame\n",
            "Columns: [VOLUME_MOIS, CONSO_FACTURE, Ecart]\n",
            "Index: []\n"
          ]
        }
      ],
      "source": [
        "conso_mensuelle_par_abonne = df_consommations.groupby('CLE_PDS')['VOLUME_MOIS'].sum()\n",
        "facture_par_abonne = df_factures.groupby('CLE_ABONNEMENT')['CONSO_FACTURE'].sum()\n",
        "\n",
        "comparaison = conso_mensuelle_par_abonne.to_frame().merge(facture_par_abonne.to_frame(), left_index=True, right_index=True, how='inner')\n",
        "comparaison['Ecart'] = abs(comparaison['VOLUME_MOIS'] - comparaison['CONSO_FACTURE'])\n",
        "print(\"\\n🔍 Comparaison consommation vs facturation :\")\n",
        "print(comparaison.sort_values(by='Ecart', ascending=False).head(10))\n"
      ]
    },
    {
      "cell_type": "code",
      "execution_count": null,
      "metadata": {
        "colab": {
          "base_uri": "https://localhost:8080/"
        },
        "id": "rVqVIhYrWEKB",
        "outputId": "3944108e-23d0-40ce-e014-01d210466119"
      },
      "outputs": [
        {
          "name": "stdout",
          "output_type": "stream",
          "text": [
            "\n",
            "🔍 Nombre d'abonnements résiliés sans souscription : 2129\n"
          ]
        }
      ],
      "source": [
        "anomalies_resiliation_sans_souscription = df_abonnements[\n",
        "    df_abonnements['DATE_SOUSCRIPTION_ABONNEMENT'].isna() & df_abonnements['DATE_RESILIATION_ABONNEMENT'].notna()\n",
        "]\n",
        "print(f\"\\n🔍 Nombre d'abonnements résiliés sans souscription : {len(anomalies_resiliation_sans_souscription)}\")\n"
      ]
    },
    {
      "cell_type": "code",
      "execution_count": null,
      "metadata": {
        "colab": {
          "base_uri": "https://localhost:8080/"
        },
        "id": "IjDYIYtzX5MO",
        "outputId": "3c144aa0-31df-45ff-a37a-b73b1a4f5ff8"
      },
      "outputs": [
        {
          "name": "stdout",
          "output_type": "stream",
          "text": [
            "\n",
            "🔍 Nombre d'abonnements très anciens sans souscription/résiliation : 47\n"
          ]
        }
      ],
      "source": [
        "anomalies_anciennes = df_abonnements[\n",
        "    (df_abonnements['DATE_ENTREE_LOCAL_ABONNEMENT'].dt.year < 1990) &\n",
        "    (df_abonnements['DATE_SOUSCRIPTION_ABONNEMENT'].isna()) &\n",
        "    (df_abonnements['DATE_RESILIATION_ABONNEMENT'].isna())\n",
        "]\n",
        "print(f\"\\n🔍 Nombre d'abonnements très anciens sans souscription/résiliation : {len(anomalies_anciennes)}\")\n"
      ]
    },
    {
      "cell_type": "code",
      "execution_count": null,
      "metadata": {
        "colab": {
          "base_uri": "https://localhost:8080/"
        },
        "id": "aacDe-piX8TH",
        "outputId": "23c95dff-8a3b-4893-bef9-3d3f0ff62076"
      },
      "outputs": [
        {
          "name": "stdout",
          "output_type": "stream",
          "text": [
            "\n",
            "🔍 Nombre d'anomalies avec délai trop long entre entrée et souscription : 107\n"
          ]
        }
      ],
      "source": [
        "df_abonnements['DELAI_ENTREE_SOUSCRIPTION'] = (\n",
        "    df_abonnements['DATE_SOUSCRIPTION_ABONNEMENT'] - df_abonnements['DATE_ENTREE_LOCAL_ABONNEMENT']\n",
        ").dt.days\n",
        "\n",
        "anomalies_delai_entree = df_abonnements[df_abonnements['DELAI_ENTREE_SOUSCRIPTION'] > 365]\n",
        "print(f\"\\n🔍 Nombre d'anomalies avec délai trop long entre entrée et souscription : {len(anomalies_delai_entree)}\")\n"
      ]
    },
    {
      "cell_type": "code",
      "execution_count": null,
      "metadata": {
        "colab": {
          "base_uri": "https://localhost:8080/"
        },
        "id": "uaHWG1HxX-wQ",
        "outputId": "2b278ae0-72e3-4c6f-8d4d-f2ec49f3c633"
      },
      "outputs": [
        {
          "name": "stdout",
          "output_type": "stream",
          "text": [
            "\n",
            "🔍 Nombre d'anomalies avec compteur de diamètre 0 mais consommation non nulle : 10808\n"
          ]
        }
      ],
      "source": [
        "anomalies_diametre_0 = df_consommation[\n",
        "    (df_consommation['DIAMETRE_NOMINAL'] == 0) & (df_consommation['VOLUME_MOIS'] > 0)\n",
        "]\n",
        "print(f\"\\n🔍 Nombre d'anomalies avec compteur de diamètre 0 mais consommation non nulle : {len(anomalies_diametre_0)}\")\n"
      ]
    },
    {
      "cell_type": "code",
      "execution_count": null,
      "metadata": {
        "colab": {
          "base_uri": "https://localhost:8080/"
        },
        "id": "mkCVzrD5YBf3",
        "outputId": "51f1f54b-5fb5-4cae-fb5b-3708096fcee8"
      },
      "outputs": [
        {
          "name": "stdout",
          "output_type": "stream",
          "text": [
            "\n",
            "🔍 Nombre d'anomalies de consommation par catégorie de client : 2465\n"
          ]
        }
      ],
      "source": [
        "conso_moyenne_par_categorie = df_consommation.groupby('LIBELLE_CATEGORIE_ABONNE')['VOLUME_MOIS'].mean()\n",
        "df_consommation['ECART_CONSO'] = df_consommation.apply(\n",
        "    lambda row: abs(row['VOLUME_MOIS'] - conso_moyenne_par_categorie[row['LIBELLE_CATEGORIE_ABONNE']]), axis=1\n",
        ")\n",
        "anomalies_conso_client = df_consommation[df_consommation['ECART_CONSO'] > df_consommation['ECART_CONSO'].quantile(0.99)]\n",
        "print(f\"\\n🔍 Nombre d'anomalies de consommation par catégorie de client : {len(anomalies_conso_client)}\")\n"
      ]
    },
    {
      "cell_type": "code",
      "execution_count": null,
      "metadata": {
        "colab": {
          "base_uri": "https://localhost:8080/"
        },
        "id": "ydfD-QttYJlT",
        "outputId": "36cb8709-b994-4b32-bdba-46cfab8ed84e"
      },
      "outputs": [
        {
          "name": "stdout",
          "output_type": "stream",
          "text": [
            "\n",
            "🔍 Nombre d'abonnements avec trop de factures sur un mois : 0\n"
          ]
        }
      ],
      "source": [
        "factures_multiples = df_factures.groupby(['CLE_ABONNEMENT', 'DATE_EMISSION_FACTURE']).size().reset_index(name='NB_FACTURES')\n",
        "anomalies_factures_multiples = factures_multiples[factures_multiples['NB_FACTURES'] > 3]  # Seuil à ajuster\n",
        "print(f\"\\n🔍 Nombre d'abonnements avec trop de factures sur un mois : {len(anomalies_factures_multiples)}\")\n"
      ]
    },
    {
      "cell_type": "code",
      "execution_count": null,
      "metadata": {
        "colab": {
          "base_uri": "https://localhost:8080/"
        },
        "id": "HhUKuewpYP0s",
        "outputId": "7ab2c9ba-01ed-4db8-83b4-1d7dee67f2af"
      },
      "outputs": [
        {
          "name": "stdout",
          "output_type": "stream",
          "text": [
            "\n",
            "🔍 Nombre d'écarts suspects entre consommation et facturation : 0\n"
          ]
        }
      ],
      "source": [
        "comparaison['ECART'] = abs(comparaison['VOLUME_MOIS'] - comparaison['CONSO_FACTURE'])\n",
        "anomalies_factures_conso = comparaison[comparaison['ECART'] > comparaison['ECART'].quantile(0.99)]\n",
        "print(f\"\\n🔍 Nombre d'écarts suspects entre consommation et facturation : {len(anomalies_factures_conso)}\")\n"
      ]
    }
  ],
  "metadata": {
    "colab": {
      "provenance": []
    },
    "kernelspec": {
      "display_name": "Python 3",
      "name": "python3"
    },
    "language_info": {
      "codemirror_mode": {
        "name": "ipython",
        "version": 3
      },
      "file_extension": ".py",
      "mimetype": "text/x-python",
      "name": "python",
      "nbconvert_exporter": "python",
      "pygments_lexer": "ipython3",
      "version": "3.12.4"
    }
  },
  "nbformat": 4,
  "nbformat_minor": 0
}
